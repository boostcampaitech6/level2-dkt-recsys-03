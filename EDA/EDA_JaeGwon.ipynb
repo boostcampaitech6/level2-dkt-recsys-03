{
 "cells": [
  {
   "cell_type": "markdown",
   "metadata": {},
   "source": [
    "## Data"
   ]
  },
  {
   "cell_type": "code",
   "execution_count": 1,
   "metadata": {},
   "outputs": [],
   "source": [
    "import numpy as np\n",
    "import pandas as pd\n",
    "import matplotlib.pyplot as plt"
   ]
  },
  {
   "cell_type": "code",
   "execution_count": 2,
   "metadata": {},
   "outputs": [
    {
     "data": {
      "text/html": [
       "<div>\n",
       "<style scoped>\n",
       "    .dataframe tbody tr th:only-of-type {\n",
       "        vertical-align: middle;\n",
       "    }\n",
       "\n",
       "    .dataframe tbody tr th {\n",
       "        vertical-align: top;\n",
       "    }\n",
       "\n",
       "    .dataframe thead th {\n",
       "        text-align: right;\n",
       "    }\n",
       "</style>\n",
       "<table border=\"1\" class=\"dataframe\">\n",
       "  <thead>\n",
       "    <tr style=\"text-align: right;\">\n",
       "      <th></th>\n",
       "      <th>userID</th>\n",
       "      <th>assessmentItemID</th>\n",
       "      <th>testId</th>\n",
       "      <th>answerCode</th>\n",
       "      <th>Timestamp</th>\n",
       "      <th>KnowledgeTag</th>\n",
       "    </tr>\n",
       "  </thead>\n",
       "  <tbody>\n",
       "    <tr>\n",
       "      <th>0</th>\n",
       "      <td>0</td>\n",
       "      <td>A060001001</td>\n",
       "      <td>A060000001</td>\n",
       "      <td>1</td>\n",
       "      <td>2020-03-24 00:17:11</td>\n",
       "      <td>7224</td>\n",
       "    </tr>\n",
       "    <tr>\n",
       "      <th>1</th>\n",
       "      <td>0</td>\n",
       "      <td>A060001002</td>\n",
       "      <td>A060000001</td>\n",
       "      <td>1</td>\n",
       "      <td>2020-03-24 00:17:14</td>\n",
       "      <td>7225</td>\n",
       "    </tr>\n",
       "    <tr>\n",
       "      <th>2</th>\n",
       "      <td>0</td>\n",
       "      <td>A060001003</td>\n",
       "      <td>A060000001</td>\n",
       "      <td>1</td>\n",
       "      <td>2020-03-24 00:17:22</td>\n",
       "      <td>7225</td>\n",
       "    </tr>\n",
       "    <tr>\n",
       "      <th>3</th>\n",
       "      <td>0</td>\n",
       "      <td>A060001004</td>\n",
       "      <td>A060000001</td>\n",
       "      <td>1</td>\n",
       "      <td>2020-03-24 00:17:29</td>\n",
       "      <td>7225</td>\n",
       "    </tr>\n",
       "    <tr>\n",
       "      <th>4</th>\n",
       "      <td>0</td>\n",
       "      <td>A060001005</td>\n",
       "      <td>A060000001</td>\n",
       "      <td>1</td>\n",
       "      <td>2020-03-24 00:17:36</td>\n",
       "      <td>7225</td>\n",
       "    </tr>\n",
       "    <tr>\n",
       "      <th>...</th>\n",
       "      <td>...</td>\n",
       "      <td>...</td>\n",
       "      <td>...</td>\n",
       "      <td>...</td>\n",
       "      <td>...</td>\n",
       "      <td>...</td>\n",
       "    </tr>\n",
       "    <tr>\n",
       "      <th>2266581</th>\n",
       "      <td>7441</td>\n",
       "      <td>A030071005</td>\n",
       "      <td>A030000071</td>\n",
       "      <td>0</td>\n",
       "      <td>2020-06-05 06:50:21</td>\n",
       "      <td>438</td>\n",
       "    </tr>\n",
       "    <tr>\n",
       "      <th>2266582</th>\n",
       "      <td>7441</td>\n",
       "      <td>A040165001</td>\n",
       "      <td>A040000165</td>\n",
       "      <td>1</td>\n",
       "      <td>2020-08-21 01:06:39</td>\n",
       "      <td>8836</td>\n",
       "    </tr>\n",
       "    <tr>\n",
       "      <th>2266583</th>\n",
       "      <td>7441</td>\n",
       "      <td>A040165002</td>\n",
       "      <td>A040000165</td>\n",
       "      <td>1</td>\n",
       "      <td>2020-08-21 01:06:50</td>\n",
       "      <td>8836</td>\n",
       "    </tr>\n",
       "    <tr>\n",
       "      <th>2266584</th>\n",
       "      <td>7441</td>\n",
       "      <td>A040165003</td>\n",
       "      <td>A040000165</td>\n",
       "      <td>1</td>\n",
       "      <td>2020-08-21 01:07:36</td>\n",
       "      <td>8836</td>\n",
       "    </tr>\n",
       "    <tr>\n",
       "      <th>2266585</th>\n",
       "      <td>7441</td>\n",
       "      <td>A040165004</td>\n",
       "      <td>A040000165</td>\n",
       "      <td>1</td>\n",
       "      <td>2020-08-21 01:08:49</td>\n",
       "      <td>8836</td>\n",
       "    </tr>\n",
       "  </tbody>\n",
       "</table>\n",
       "<p>2266586 rows × 6 columns</p>\n",
       "</div>"
      ],
      "text/plain": [
       "         userID assessmentItemID      testId  answerCode           Timestamp  \\\n",
       "0             0       A060001001  A060000001           1 2020-03-24 00:17:11   \n",
       "1             0       A060001002  A060000001           1 2020-03-24 00:17:14   \n",
       "2             0       A060001003  A060000001           1 2020-03-24 00:17:22   \n",
       "3             0       A060001004  A060000001           1 2020-03-24 00:17:29   \n",
       "4             0       A060001005  A060000001           1 2020-03-24 00:17:36   \n",
       "...         ...              ...         ...         ...                 ...   \n",
       "2266581    7441       A030071005  A030000071           0 2020-06-05 06:50:21   \n",
       "2266582    7441       A040165001  A040000165           1 2020-08-21 01:06:39   \n",
       "2266583    7441       A040165002  A040000165           1 2020-08-21 01:06:50   \n",
       "2266584    7441       A040165003  A040000165           1 2020-08-21 01:07:36   \n",
       "2266585    7441       A040165004  A040000165           1 2020-08-21 01:08:49   \n",
       "\n",
       "         KnowledgeTag  \n",
       "0                7224  \n",
       "1                7225  \n",
       "2                7225  \n",
       "3                7225  \n",
       "4                7225  \n",
       "...               ...  \n",
       "2266581           438  \n",
       "2266582          8836  \n",
       "2266583          8836  \n",
       "2266584          8836  \n",
       "2266585          8836  \n",
       "\n",
       "[2266586 rows x 6 columns]"
      ]
     },
     "execution_count": 2,
     "metadata": {},
     "output_type": "execute_result"
    }
   ],
   "source": [
    "DATA_PATH = '../data/train_data.csv'\n",
    "dtype = {\n",
    "    'userID': 'int16',\n",
    "    'answerCode': 'int8',\n",
    "    'KnowledgeTag': 'int16'\n",
    "}\n",
    "\n",
    "train_data = pd.read_csv(DATA_PATH, dtype=dtype, parse_dates=['Timestamp'])\n",
    "train_data = train_data.sort_values(by=['userID', 'Timestamp']).reset_index(drop=True)\n",
    "train_data"
   ]
  },
  {
   "cell_type": "code",
   "execution_count": 3,
   "metadata": {},
   "outputs": [
    {
     "data": {
      "text/html": [
       "<div>\n",
       "<style scoped>\n",
       "    .dataframe tbody tr th:only-of-type {\n",
       "        vertical-align: middle;\n",
       "    }\n",
       "\n",
       "    .dataframe tbody tr th {\n",
       "        vertical-align: top;\n",
       "    }\n",
       "\n",
       "    .dataframe thead th {\n",
       "        text-align: right;\n",
       "    }\n",
       "</style>\n",
       "<table border=\"1\" class=\"dataframe\">\n",
       "  <thead>\n",
       "    <tr style=\"text-align: right;\">\n",
       "      <th></th>\n",
       "      <th>userID</th>\n",
       "      <th>assessmentItemID</th>\n",
       "      <th>testId</th>\n",
       "      <th>answerCode</th>\n",
       "      <th>Timestamp</th>\n",
       "      <th>KnowledgeTag</th>\n",
       "    </tr>\n",
       "  </thead>\n",
       "  <tbody>\n",
       "    <tr>\n",
       "      <th>0</th>\n",
       "      <td>3</td>\n",
       "      <td>A050023001</td>\n",
       "      <td>A050000023</td>\n",
       "      <td>1</td>\n",
       "      <td>2020-01-09 10:56:31</td>\n",
       "      <td>2626</td>\n",
       "    </tr>\n",
       "    <tr>\n",
       "      <th>1</th>\n",
       "      <td>3</td>\n",
       "      <td>A050023002</td>\n",
       "      <td>A050000023</td>\n",
       "      <td>1</td>\n",
       "      <td>2020-01-09 10:56:57</td>\n",
       "      <td>2626</td>\n",
       "    </tr>\n",
       "    <tr>\n",
       "      <th>2</th>\n",
       "      <td>3</td>\n",
       "      <td>A050023003</td>\n",
       "      <td>A050000023</td>\n",
       "      <td>0</td>\n",
       "      <td>2020-01-09 10:58:31</td>\n",
       "      <td>2625</td>\n",
       "    </tr>\n",
       "    <tr>\n",
       "      <th>3</th>\n",
       "      <td>3</td>\n",
       "      <td>A050023004</td>\n",
       "      <td>A050000023</td>\n",
       "      <td>0</td>\n",
       "      <td>2020-01-09 10:58:36</td>\n",
       "      <td>2625</td>\n",
       "    </tr>\n",
       "    <tr>\n",
       "      <th>4</th>\n",
       "      <td>3</td>\n",
       "      <td>A050023006</td>\n",
       "      <td>A050000023</td>\n",
       "      <td>0</td>\n",
       "      <td>2020-01-09 10:58:43</td>\n",
       "      <td>2623</td>\n",
       "    </tr>\n",
       "    <tr>\n",
       "      <th>...</th>\n",
       "      <td>...</td>\n",
       "      <td>...</td>\n",
       "      <td>...</td>\n",
       "      <td>...</td>\n",
       "      <td>...</td>\n",
       "      <td>...</td>\n",
       "    </tr>\n",
       "    <tr>\n",
       "      <th>260109</th>\n",
       "      <td>7439</td>\n",
       "      <td>A040130001</td>\n",
       "      <td>A040000130</td>\n",
       "      <td>0</td>\n",
       "      <td>2020-10-14 23:07:23</td>\n",
       "      <td>8832</td>\n",
       "    </tr>\n",
       "    <tr>\n",
       "      <th>260110</th>\n",
       "      <td>7439</td>\n",
       "      <td>A040130002</td>\n",
       "      <td>A040000130</td>\n",
       "      <td>1</td>\n",
       "      <td>2020-10-14 23:07:41</td>\n",
       "      <td>8832</td>\n",
       "    </tr>\n",
       "    <tr>\n",
       "      <th>260111</th>\n",
       "      <td>7439</td>\n",
       "      <td>A040130003</td>\n",
       "      <td>A040000130</td>\n",
       "      <td>1</td>\n",
       "      <td>2020-10-14 23:08:02</td>\n",
       "      <td>8244</td>\n",
       "    </tr>\n",
       "    <tr>\n",
       "      <th>260112</th>\n",
       "      <td>7439</td>\n",
       "      <td>A040130004</td>\n",
       "      <td>A040000130</td>\n",
       "      <td>1</td>\n",
       "      <td>2020-10-14 23:09:31</td>\n",
       "      <td>8244</td>\n",
       "    </tr>\n",
       "    <tr>\n",
       "      <th>260113</th>\n",
       "      <td>7439</td>\n",
       "      <td>A040130005</td>\n",
       "      <td>A040000130</td>\n",
       "      <td>-1</td>\n",
       "      <td>2020-10-14 23:10:03</td>\n",
       "      <td>8832</td>\n",
       "    </tr>\n",
       "  </tbody>\n",
       "</table>\n",
       "<p>260114 rows × 6 columns</p>\n",
       "</div>"
      ],
      "text/plain": [
       "        userID assessmentItemID      testId  answerCode           Timestamp  \\\n",
       "0            3       A050023001  A050000023           1 2020-01-09 10:56:31   \n",
       "1            3       A050023002  A050000023           1 2020-01-09 10:56:57   \n",
       "2            3       A050023003  A050000023           0 2020-01-09 10:58:31   \n",
       "3            3       A050023004  A050000023           0 2020-01-09 10:58:36   \n",
       "4            3       A050023006  A050000023           0 2020-01-09 10:58:43   \n",
       "...        ...              ...         ...         ...                 ...   \n",
       "260109    7439       A040130001  A040000130           0 2020-10-14 23:07:23   \n",
       "260110    7439       A040130002  A040000130           1 2020-10-14 23:07:41   \n",
       "260111    7439       A040130003  A040000130           1 2020-10-14 23:08:02   \n",
       "260112    7439       A040130004  A040000130           1 2020-10-14 23:09:31   \n",
       "260113    7439       A040130005  A040000130          -1 2020-10-14 23:10:03   \n",
       "\n",
       "        KnowledgeTag  \n",
       "0               2626  \n",
       "1               2626  \n",
       "2               2625  \n",
       "3               2625  \n",
       "4               2623  \n",
       "...              ...  \n",
       "260109          8832  \n",
       "260110          8832  \n",
       "260111          8244  \n",
       "260112          8244  \n",
       "260113          8832  \n",
       "\n",
       "[260114 rows x 6 columns]"
      ]
     },
     "execution_count": 3,
     "metadata": {},
     "output_type": "execute_result"
    }
   ],
   "source": [
    "DATA_PATH = '../data/test_data.csv'\n",
    "dtype = {\n",
    "    'userID': 'int16',\n",
    "    'answerCode': 'int8',\n",
    "    'KnowledgeTag': 'int16'\n",
    "}\n",
    "\n",
    "test_data = pd.read_csv(DATA_PATH, dtype=dtype, parse_dates=['Timestamp'])\n",
    "test_data = test_data.sort_values(by=['userID', 'Timestamp']).reset_index(drop=True)\n",
    "test_data"
   ]
  },
  {
   "cell_type": "markdown",
   "metadata": {},
   "source": [
    "### train_data와 test_data에서 겹치는 userID & testId"
   ]
  },
  {
   "cell_type": "code",
   "execution_count": 11,
   "metadata": {},
   "outputs": [
    {
     "data": {
      "text/plain": [
       "0"
      ]
     },
     "execution_count": 11,
     "metadata": {},
     "output_type": "execute_result"
    }
   ],
   "source": [
    "users_train = set(list(train_data['userID'].unique()))\n",
    "users_test = set(list(test_data['userID'].unique()))\n",
    "len(users_train & users_test)"
   ]
  },
  {
   "cell_type": "code",
   "execution_count": 12,
   "metadata": {},
   "outputs": [
    {
     "data": {
      "text/plain": [
       "(1537, 1537)"
      ]
     },
     "execution_count": 12,
     "metadata": {},
     "output_type": "execute_result"
    }
   ],
   "source": [
    "tests_train = set(list(train_data['testId'].unique()))\n",
    "tests_test = set(list(test_data['testId'].unique()))\n",
    "len(tests_train | tests_test), len(tests_train & tests_test)"
   ]
  },
  {
   "cell_type": "markdown",
   "metadata": {},
   "source": [
    "### testID 분리, Time 생성"
   ]
  },
  {
   "cell_type": "code",
   "execution_count": 4,
   "metadata": {},
   "outputs": [],
   "source": [
    "df = train_data.copy()"
   ]
  },
  {
   "cell_type": "code",
   "execution_count": 5,
   "metadata": {},
   "outputs": [
    {
     "data": {
      "text/html": [
       "<div>\n",
       "<style scoped>\n",
       "    .dataframe tbody tr th:only-of-type {\n",
       "        vertical-align: middle;\n",
       "    }\n",
       "\n",
       "    .dataframe tbody tr th {\n",
       "        vertical-align: top;\n",
       "    }\n",
       "\n",
       "    .dataframe thead th {\n",
       "        text-align: right;\n",
       "    }\n",
       "</style>\n",
       "<table border=\"1\" class=\"dataframe\">\n",
       "  <thead>\n",
       "    <tr style=\"text-align: right;\">\n",
       "      <th></th>\n",
       "      <th>userID</th>\n",
       "      <th>question</th>\n",
       "      <th>testID</th>\n",
       "      <th>testID1</th>\n",
       "      <th>testID2</th>\n",
       "      <th>testNum</th>\n",
       "      <th>KnowledgeTag</th>\n",
       "      <th>Timestamp</th>\n",
       "      <th>Time</th>\n",
       "      <th>answerCode</th>\n",
       "    </tr>\n",
       "  </thead>\n",
       "  <tbody>\n",
       "    <tr>\n",
       "      <th>0</th>\n",
       "      <td>0</td>\n",
       "      <td>060001001</td>\n",
       "      <td>060001</td>\n",
       "      <td>060</td>\n",
       "      <td>001</td>\n",
       "      <td>001</td>\n",
       "      <td>7224</td>\n",
       "      <td>2020-03-24 00:17:11</td>\n",
       "      <td>3</td>\n",
       "      <td>1</td>\n",
       "    </tr>\n",
       "    <tr>\n",
       "      <th>1</th>\n",
       "      <td>0</td>\n",
       "      <td>060001002</td>\n",
       "      <td>060001</td>\n",
       "      <td>060</td>\n",
       "      <td>001</td>\n",
       "      <td>002</td>\n",
       "      <td>7225</td>\n",
       "      <td>2020-03-24 00:17:14</td>\n",
       "      <td>8</td>\n",
       "      <td>1</td>\n",
       "    </tr>\n",
       "    <tr>\n",
       "      <th>2</th>\n",
       "      <td>0</td>\n",
       "      <td>060001003</td>\n",
       "      <td>060001</td>\n",
       "      <td>060</td>\n",
       "      <td>001</td>\n",
       "      <td>003</td>\n",
       "      <td>7225</td>\n",
       "      <td>2020-03-24 00:17:22</td>\n",
       "      <td>7</td>\n",
       "      <td>1</td>\n",
       "    </tr>\n",
       "    <tr>\n",
       "      <th>3</th>\n",
       "      <td>0</td>\n",
       "      <td>060001004</td>\n",
       "      <td>060001</td>\n",
       "      <td>060</td>\n",
       "      <td>001</td>\n",
       "      <td>004</td>\n",
       "      <td>7225</td>\n",
       "      <td>2020-03-24 00:17:29</td>\n",
       "      <td>7</td>\n",
       "      <td>1</td>\n",
       "    </tr>\n",
       "    <tr>\n",
       "      <th>4</th>\n",
       "      <td>0</td>\n",
       "      <td>060001005</td>\n",
       "      <td>060001</td>\n",
       "      <td>060</td>\n",
       "      <td>001</td>\n",
       "      <td>005</td>\n",
       "      <td>7225</td>\n",
       "      <td>2020-03-24 00:17:36</td>\n",
       "      <td>11</td>\n",
       "      <td>1</td>\n",
       "    </tr>\n",
       "    <tr>\n",
       "      <th>...</th>\n",
       "      <td>...</td>\n",
       "      <td>...</td>\n",
       "      <td>...</td>\n",
       "      <td>...</td>\n",
       "      <td>...</td>\n",
       "      <td>...</td>\n",
       "      <td>...</td>\n",
       "      <td>...</td>\n",
       "      <td>...</td>\n",
       "      <td>...</td>\n",
       "    </tr>\n",
       "    <tr>\n",
       "      <th>2266581</th>\n",
       "      <td>7441</td>\n",
       "      <td>030071005</td>\n",
       "      <td>030071</td>\n",
       "      <td>030</td>\n",
       "      <td>071</td>\n",
       "      <td>005</td>\n",
       "      <td>438</td>\n",
       "      <td>2020-06-05 06:50:21</td>\n",
       "      <td>24</td>\n",
       "      <td>0</td>\n",
       "    </tr>\n",
       "    <tr>\n",
       "      <th>2266582</th>\n",
       "      <td>7441</td>\n",
       "      <td>040165001</td>\n",
       "      <td>040165</td>\n",
       "      <td>040</td>\n",
       "      <td>165</td>\n",
       "      <td>001</td>\n",
       "      <td>8836</td>\n",
       "      <td>2020-08-21 01:06:39</td>\n",
       "      <td>11</td>\n",
       "      <td>1</td>\n",
       "    </tr>\n",
       "    <tr>\n",
       "      <th>2266583</th>\n",
       "      <td>7441</td>\n",
       "      <td>040165002</td>\n",
       "      <td>040165</td>\n",
       "      <td>040</td>\n",
       "      <td>165</td>\n",
       "      <td>002</td>\n",
       "      <td>8836</td>\n",
       "      <td>2020-08-21 01:06:50</td>\n",
       "      <td>46</td>\n",
       "      <td>1</td>\n",
       "    </tr>\n",
       "    <tr>\n",
       "      <th>2266584</th>\n",
       "      <td>7441</td>\n",
       "      <td>040165003</td>\n",
       "      <td>040165</td>\n",
       "      <td>040</td>\n",
       "      <td>165</td>\n",
       "      <td>003</td>\n",
       "      <td>8836</td>\n",
       "      <td>2020-08-21 01:07:36</td>\n",
       "      <td>73</td>\n",
       "      <td>1</td>\n",
       "    </tr>\n",
       "    <tr>\n",
       "      <th>2266585</th>\n",
       "      <td>7441</td>\n",
       "      <td>040165004</td>\n",
       "      <td>040165</td>\n",
       "      <td>040</td>\n",
       "      <td>165</td>\n",
       "      <td>004</td>\n",
       "      <td>8836</td>\n",
       "      <td>2020-08-21 01:08:49</td>\n",
       "      <td>73</td>\n",
       "      <td>1</td>\n",
       "    </tr>\n",
       "  </tbody>\n",
       "</table>\n",
       "<p>2266586 rows × 10 columns</p>\n",
       "</div>"
      ],
      "text/plain": [
       "         userID   question  testID testID1 testID2 testNum KnowledgeTag  \\\n",
       "0             0  060001001  060001     060     001     001         7224   \n",
       "1             0  060001002  060001     060     001     002         7225   \n",
       "2             0  060001003  060001     060     001     003         7225   \n",
       "3             0  060001004  060001     060     001     004         7225   \n",
       "4             0  060001005  060001     060     001     005         7225   \n",
       "...         ...        ...     ...     ...     ...     ...          ...   \n",
       "2266581    7441  030071005  030071     030     071     005          438   \n",
       "2266582    7441  040165001  040165     040     165     001         8836   \n",
       "2266583    7441  040165002  040165     040     165     002         8836   \n",
       "2266584    7441  040165003  040165     040     165     003         8836   \n",
       "2266585    7441  040165004  040165     040     165     004         8836   \n",
       "\n",
       "                  Timestamp  Time  answerCode  \n",
       "0       2020-03-24 00:17:11     3           1  \n",
       "1       2020-03-24 00:17:14     8           1  \n",
       "2       2020-03-24 00:17:22     7           1  \n",
       "3       2020-03-24 00:17:29     7           1  \n",
       "4       2020-03-24 00:17:36    11           1  \n",
       "...                     ...   ...         ...  \n",
       "2266581 2020-06-05 06:50:21    24           0  \n",
       "2266582 2020-08-21 01:06:39    11           1  \n",
       "2266583 2020-08-21 01:06:50    46           1  \n",
       "2266584 2020-08-21 01:07:36    73           1  \n",
       "2266585 2020-08-21 01:08:49    73           1  \n",
       "\n",
       "[2266586 rows x 10 columns]"
      ]
     },
     "execution_count": 5,
     "metadata": {},
     "output_type": "execute_result"
    }
   ],
   "source": [
    "df['question'] = df['assessmentItemID'].apply(lambda x: x[1:])\n",
    "df['testID'] = df['assessmentItemID'].apply(lambda x: x[1:7])\n",
    "df['testID1'] = df['assessmentItemID'].apply(lambda x: x[1:4])\n",
    "df['testID2'] = df['assessmentItemID'].apply(lambda x: x[4:7])\n",
    "df['testNum'] = df['assessmentItemID'].apply(lambda x: x[7:])\n",
    "df['KnowledgeTag'] = df['KnowledgeTag'].astype('str')\n",
    "df['Time'] = (df.groupby(['userID','testID'])['Timestamp'].shift(-1) - df['Timestamp']).apply(lambda x: x.seconds)\n",
    "df['Time'] = df['Time'].ffill().astype('int')\n",
    "df = df[['userID','question','testID','testID1','testID2','testNum','KnowledgeTag','Timestamp','Time','answerCode']]\n",
    "df"
   ]
  },
  {
   "cell_type": "code",
   "execution_count": 5,
   "metadata": {},
   "outputs": [
    {
     "name": "stdout",
     "output_type": "stream",
     "text": [
      "<class 'pandas.core.frame.DataFrame'>\n",
      "RangeIndex: 2266586 entries, 0 to 2266585\n",
      "Data columns (total 9 columns):\n",
      " #   Column        Dtype         \n",
      "---  ------        -----         \n",
      " 0   userID        int16         \n",
      " 1   testID        object        \n",
      " 2   testID1       object        \n",
      " 3   testID2       object        \n",
      " 4   testNum       object        \n",
      " 5   KnowledgeTag  object        \n",
      " 6   Timestamp     datetime64[ns]\n",
      " 7   Time          int64         \n",
      " 8   answerCode    int8          \n",
      "dtypes: datetime64[ns](1), int16(1), int64(1), int8(1), object(5)\n",
      "memory usage: 127.5+ MB\n"
     ]
    }
   ],
   "source": [
    "df.info()"
   ]
  },
  {
   "cell_type": "code",
   "execution_count": 6,
   "metadata": {},
   "outputs": [
    {
     "data": {
      "text/plain": [
       "userID          0\n",
       "testID          0\n",
       "testID1         0\n",
       "testID2         0\n",
       "testNum         0\n",
       "KnowledgeTag    0\n",
       "Timestamp       0\n",
       "Time            0\n",
       "answerCode      0\n",
       "dtype: int64"
      ]
     },
     "execution_count": 6,
     "metadata": {},
     "output_type": "execute_result"
    }
   ],
   "source": [
    "df.isnull().sum()"
   ]
  },
  {
   "cell_type": "markdown",
   "metadata": {},
   "source": [
    "## EDA"
   ]
  },
  {
   "cell_type": "markdown",
   "metadata": {},
   "source": [
    "### Features"
   ]
  },
  {
   "cell_type": "code",
   "execution_count": 11,
   "metadata": {},
   "outputs": [
    {
     "data": {
      "text/plain": [
       "testID\n",
       "080128    3960\n",
       "080131    3640\n",
       "090015    3624\n",
       "090011    3616\n",
       "090009    3616\n",
       "          ... \n",
       "010168     180\n",
       "010178     176\n",
       "010181     176\n",
       "010166     176\n",
       "010179     172\n",
       "Name: count, Length: 1537, dtype: int64"
      ]
     },
     "execution_count": 11,
     "metadata": {},
     "output_type": "execute_result"
    }
   ],
   "source": [
    "df['testID'].value_counts()"
   ]
  },
  {
   "cell_type": "code",
   "execution_count": 12,
   "metadata": {},
   "outputs": [
    {
     "name": "stdout",
     "output_type": "stream",
     "text": [
      "1537\n"
     ]
    },
    {
     "data": {
      "text/plain": [
       "array(['060001', '060003', '060005', ..., '010178', '010189', '010180'],\n",
       "      dtype=object)"
      ]
     },
     "execution_count": 12,
     "metadata": {},
     "output_type": "execute_result"
    }
   ],
   "source": [
    "print(df['testID'].nunique())\n",
    "df['testID'].unique()"
   ]
  },
  {
   "cell_type": "code",
   "execution_count": 25,
   "metadata": {},
   "outputs": [
    {
     "data": {
      "text/plain": [
       "[]"
      ]
     },
     "execution_count": 25,
     "metadata": {},
     "output_type": "execute_result"
    },
    {
     "data": {
      "image/png": "[encoded data removed]",
      "text/plain": [
       "<Figure size 640x480 with 1 Axes>"
      ]
     },
     "metadata": {},
     "output_type": "display_data"
    }
   ],
   "source": [
    "plt.plot(df['testID'].value_counts())\n",
    "plt.gca().axes.xaxis.set_ticks([])"
   ]
  },
  {
   "cell_type": "code",
   "execution_count": 7,
   "metadata": {},
   "outputs": [
    {
     "data": {
      "text/plain": [
       "testID1\n",
       "070    279164\n",
       "050    275773\n",
       "030    273762\n",
       "010    272082\n",
       "020    268327\n",
       "040    267323\n",
       "060    264434\n",
       "080    246336\n",
       "090    119385\n",
       "Name: count, dtype: int64"
      ]
     },
     "execution_count": 7,
     "metadata": {},
     "output_type": "execute_result"
    }
   ],
   "source": [
    "df['testID1'].value_counts()"
   ]
  },
  {
   "cell_type": "code",
   "execution_count": 8,
   "metadata": {},
   "outputs": [
    {
     "data": {
      "text/plain": [
       "testID2\n",
       "017    17739\n",
       "009    17555\n",
       "011    17029\n",
       "003    16970\n",
       "007    16826\n",
       "       ...  \n",
       "180     3767\n",
       "197     2973\n",
       "194     2596\n",
       "196     1304\n",
       "198      951\n",
       "Name: count, Length: 198, dtype: int64"
      ]
     },
     "execution_count": 8,
     "metadata": {},
     "output_type": "execute_result"
    }
   ],
   "source": [
    "df['testID2'].value_counts()"
   ]
  },
  {
   "cell_type": "code",
   "execution_count": 9,
   "metadata": {},
   "outputs": [
    {
     "name": "stdout",
     "output_type": "stream",
     "text": [
      "198\n"
     ]
    },
    {
     "data": {
      "text/plain": [
       "array(['001', '003', '005', '007', '002', '009', '016', '004', '006',\n",
       "       '018', '020', '008', '010', '022', '012', '014', '024', '031',\n",
       "       '033', '035', '037', '039', '041', '043', '036', '052', '054',\n",
       "       '038', '056', '058', '060', '040', '062', '042', '070', '072',\n",
       "       '074', '044', '076', '078', '046', '048', '085', '087', '089',\n",
       "       '091', '093', '094', '095', '096', '097', '080', '099', '082',\n",
       "       '101', '084', '103', '086', '105', '088', '107', '090', '092',\n",
       "       '098', '172', '121', '100', '123', '125', '102', '174', '181',\n",
       "       '127', '129', '182', '131', '183', '119', '115', '192', '108',\n",
       "       '112', '114', '118', '120', '128', '013', '015', '017', '019',\n",
       "       '021', '049', '051', '063', '065', '073', '075', '081', '083',\n",
       "       '011', '023', '025', '026', '034', '027', '028', '029', '030',\n",
       "       '032', '050', '047', '155', '156', '068', '157', '158', '064',\n",
       "       '066', '160', '059', '161', '162', '163', '164', '165', '104',\n",
       "       '184', '106', '185', '186', '132', '133', '134', '195', '135',\n",
       "       '196', '152', '153', '154', '197', '198', '159', '045', '109',\n",
       "       '111', '113', '117', '053', '136', '138', '140', '142', '144',\n",
       "       '146', '148', '150', '069', '071', '061', '137', '139', '141',\n",
       "       '149', '151', '055', '057', '067', '077', '079', '124', '126',\n",
       "       '110', '130', '122', '168', '176', '178', '180', '187', '189',\n",
       "       '191', '193', '171', '169', '173', '175', '177', '116', '166',\n",
       "       '143', '170', '145', '167', '147', '190', '179', '188', '194'],\n",
       "      dtype=object)"
      ]
     },
     "execution_count": 9,
     "metadata": {},
     "output_type": "execute_result"
    }
   ],
   "source": [
    "print(df['testID2'].nunique())\n",
    "df['testID2'].unique()"
   ]
  },
  {
   "cell_type": "code",
   "execution_count": 16,
   "metadata": {},
   "outputs": [
    {
     "name": "stdout",
     "output_type": "stream",
     "text": [
      "1537\n",
      "1782\n"
     ]
    }
   ],
   "source": [
    "print(df['testID'].nunique())\n",
    "print(9*198)"
   ]
  },
  {
   "cell_type": "code",
   "execution_count": 24,
   "metadata": {},
   "outputs": [
    {
     "data": {
      "text/plain": [
       "[]"
      ]
     },
     "execution_count": 24,
     "metadata": {},
     "output_type": "execute_result"
    },
    {
     "data": {
      "image/png": "[encoded data removed]",
      "text/plain": [
       "<Figure size 640x480 with 1 Axes>"
      ]
     },
     "metadata": {},
     "output_type": "display_data"
    }
   ],
   "source": [
    "plt.plot(df['testID2'].value_counts())\n",
    "plt.gca().axes.xaxis.set_ticks([])"
   ]
  },
  {
   "cell_type": "code",
   "execution_count": 70,
   "metadata": {},
   "outputs": [
    {
     "data": {
      "text/plain": [
       "testNum\n",
       "001    371755\n",
       "003    371640\n",
       "002    370972\n",
       "004    369705\n",
       "005    360607\n",
       "006    197772\n",
       "007    127121\n",
       "008     67150\n",
       "009     18417\n",
       "010      5342\n",
       "011      3352\n",
       "012      2484\n",
       "013       269\n",
       "Name: count, dtype: int64"
      ]
     },
     "execution_count": 70,
     "metadata": {},
     "output_type": "execute_result"
    }
   ],
   "source": [
    "df['testNum'].value_counts()"
   ]
  },
  {
   "cell_type": "code",
   "execution_count": 72,
   "metadata": {},
   "outputs": [
    {
     "data": {
      "text/plain": [
       "KnowledgeTag\n",
       "7597    12892\n",
       "7600    10734\n",
       "2010    10176\n",
       "7621     9709\n",
       "8127     9006\n",
       "        ...  \n",
       "5142       47\n",
       "2871       46\n",
       "4978       46\n",
       "7125       45\n",
       "2613       44\n",
       "Name: count, Length: 912, dtype: int64"
      ]
     },
     "execution_count": 72,
     "metadata": {},
     "output_type": "execute_result"
    }
   ],
   "source": [
    "df['KnowledgeTag'].value_counts()"
   ]
  },
  {
   "cell_type": "code",
   "execution_count": 73,
   "metadata": {},
   "outputs": [
    {
     "name": "stdout",
     "output_type": "stream",
     "text": [
      "912\n"
     ]
    },
    {
     "data": {
      "text/plain": [
       "array(['7224', '7225', '7226', '7227', '7228', '7229', '4605', '1394',\n",
       "       '1396', '1397', '1395', '7230', '586', '587', '1356', '4657',\n",
       "       '588', '589', '590', '4658', '4673', '1444', '4661', '1443',\n",
       "       '4660', '4659', '1442', '592', '593', '4671', '4668', '4664',\n",
       "       '4663', '4662', '4665', '4669', '4672', '595', '594', '4667',\n",
       "       '596', '599', '598', '600', '4678', '4682', '4681', '4680', '601',\n",
       "       '4685', '602', '4683', '4684', '9232', '603', '2652', '4686',\n",
       "       '7863', '606', '605', '609', '4687', '610', '4805', '4688', '611',\n",
       "       '10603', '612', '4784', '4802', '4795', '10604', '614', '4803',\n",
       "       '4793', '4797', '9557', '615', '616', '2848', '618', '4783',\n",
       "       '4801', '4799', '10605', '10606', '9590', '2849', '2852', '2853',\n",
       "       '4804', '10403', '10405', '623', '624', '626', '625', '627', '628',\n",
       "       '10404', '4967', '4970', '4971', '4975', '8794', '2887', '4974',\n",
       "       '4976', '4978', '4979', '3097', '23', '25', '9931', '26', '10568',\n",
       "       '705', '30', '32', '706', '31', '707', '1108', '1107', '708',\n",
       "       '9497', '709', '1110', '8931', '7034', '7120', '1117', '7171',\n",
       "       '1120', '8132', '710', '7126', '7125', '7167', '711', '712',\n",
       "       '7170', '7172', '8134', '8135', '713', '714', '8137', '770',\n",
       "       '8136', '8091', '8092', '8093', '1184', '8289', '2711', '1185',\n",
       "       '1200', '1203', '9519', '10572', '1201', '8404', '2723', '2725',\n",
       "       '2048', '2047', '2049', '2050', '2053', '11214', '2054', '2065',\n",
       "       '2067', '2068', '2069', '2070', '2071', '2072', '2077', '2078',\n",
       "       '2079', '2085', '4697', '10174', '78', '2087', '4699', '4709',\n",
       "       '11253', '4723', '2089', '4724', '4725', '4209', '2090', '5141',\n",
       "       '10741', '2091', '5261', '9728', '2092', '5317', '4210', '2093',\n",
       "       '2094', '5595', '7271', '5308', '5596', '7268', '4211', '7305',\n",
       "       '11269', '974', '971', '972', '9743', '11270', '11271', '10778',\n",
       "       '9744', '9745', '975', '4232', '9787', '9829', '10169', '10168',\n",
       "       '9811', '10590', '2055', '1000', '10182', '10608', '9832', '10181',\n",
       "       '1002', '1010', '10180', '1011', '4234', '10607', '1009', '9846',\n",
       "       '10759', '10610', '10760', '2074', '1248', '2111', '2112', '1249',\n",
       "       '9852', '2075', '1250', '1251', '2113', '2076', '1252', '10764',\n",
       "       '4236', '2114', '11235', '2116', '11236', '2120', '11241', '2121',\n",
       "       '2118', '2119', '2123', '2122', '8238', '8836', '2096', '2097',\n",
       "       '2125', '2099', '2100', '2127', '11246', '2101', '2102', '10615',\n",
       "       '2128', '2103', '2104', '10618', '2129', '8832', '8247', '8244',\n",
       "       '2131', '2107', '2108', '2110', '2109', '2132', '2133', '2115',\n",
       "       '2010', '2098', '2598', '4242', '2600', '2601', '10190', '2105',\n",
       "       '2602', '9923', '9924', '2644', '9925', '9929', '2647', '9926',\n",
       "       '4243', '2648', '10196', '407', '307', '7309', '7310', '308',\n",
       "       '332', '331', '7321', '419', '2617', '334', '339', '2619', '351',\n",
       "       '7333', '363', '7334', '365', '371', '373', '3691', '3682', '202',\n",
       "       '3751', '3752', '3753', '3755', '3756', '3757', '3826', '3827',\n",
       "       '5258', '309', '5260', '475', '342', '346', '394', '395', '551',\n",
       "       '559', '547', '7781', '7782', '7788', '7823', '1707', '1720',\n",
       "       '425', '5289', '1721', '427', '428', '4604', '4679', '4800',\n",
       "       '4957', '4959', '5485', '7581', '4962', '4961', '4969', '4963',\n",
       "       '5834', '7593', '4965', '4964', '6308', '2868', '2869', '2870',\n",
       "       '4972', '7597', '7600', '4980', '7596', '7599', '6456', '7621',\n",
       "       '7618', '7620', '24', '10569', '4498', '6555', '6556', '6648',\n",
       "       '7118', '6775', '10421', '7127', '1422', '10747', '10573', '9498',\n",
       "       '1450', '10749', '1183', '1180', '1181', '2719', '1182', '7803',\n",
       "       '8343', '2712', '1202', '2718', '2717', '2714', '2715', '8403',\n",
       "       '2721', '2726', '2727', '9500', '8420', '8421', '8422', '8423',\n",
       "       '8424', '8426', '8431', '8428', '8429', '8425', '8427', '8432',\n",
       "       '8433', '7307', '7308', '355', '405', '409', '411', '417', '429',\n",
       "       '431', '433', '436', '439', '11265', '438', '443', '447', '452',\n",
       "       '458', '461', '7636', '7637', '465', '464', '471', '7653', '481',\n",
       "       '554', '574', '7690', '7691', '7789', '7817', '2615', '2616',\n",
       "       '2620', '2621', '2622', '3681', '3693', '3703', '3728', '3729',\n",
       "       '7912', '7913', '7914', '2618', '7915', '7916', '7918', '7919',\n",
       "       '7920', '7921', '7922', '2626', '2625', '192', '2623', '7696',\n",
       "       '7924', '3704', '7926', '7747', '7751', '7932', '7933', '8127',\n",
       "       '7934', '7935', '7936', '7938', '7822', '5259', '360', '7941',\n",
       "       '7943', '7944', '396', '8027', '5268', '5269', '8004', '5270',\n",
       "       '5271', '8002', '5284', '8003', '5286', '8005', '5285', '8006',\n",
       "       '8014', '5267', '10313', '10328', '8015', '8016', '8017', '8018',\n",
       "       '5311', '434', '435', '8019', '8020', '2603', '444', '8021',\n",
       "       '8022', '8023', '5814', '5844', '5846', '7595', '7598', '7601',\n",
       "       '6453', '6454', '6455', '6557', '5836', '6803', '6806', '5845',\n",
       "       '6804', '4746', '3804', '3806', '164', '162', '5656', '5782',\n",
       "       '5620', '163', '5705', '5788', '1257', '8831', '9161', '5810',\n",
       "       '1260', '1261', '1262', '9166', '6795', '6774', '6647', '1439',\n",
       "       '6805', '7807', '7810', '7802', '7797', '7811', '7801', '7800',\n",
       "       '1453', '1454', '1455', '1463', '1464', '1451', '1452', '7073',\n",
       "       '7070', '1456', '1458', '7626', '9062', '9066', '9055', '9065',\n",
       "       '9064', '6796', '6785', '169', '121', '5761', '5707', '5762',\n",
       "       '5653', '5763', '1255', '5780', '5781', '5783', '5619', '1256',\n",
       "       '8830', '9160', '9165', '5809', '1259', '5808', '6784', '1263',\n",
       "       '9168', '9171', '9172', '1264', '9170', '1266', '6800', '6801',\n",
       "       '6802', '6825', '9185', '9184', '9186', '1269', '6826', '6828',\n",
       "       '6827', '9072', '9099', '7856', '9082', '9083', '9086', '9075',\n",
       "       '9069', '9070', '9098', '9071', '9068', '9077', '9078', '9079',\n",
       "       '9080', '9081', '9765', '7862', '3288', '7866', '9797', '607',\n",
       "       '608', '116', '3793', '117', '3792', '3794', '3798', '3795',\n",
       "       '3820', '3821', '7665', '7667', '5654', '5655', '9164', '9162',\n",
       "       '9167', '9169', '1267', '1268', '1271', '9022', '8899', '8896',\n",
       "       '9187', '1273', '8872', '8871', '8875', '8874', '10819', '8885',\n",
       "       '7928', '7929', '8879', '8880', '8890', '8891', '8889', '8892',\n",
       "       '8878', '7259', '8893', '8895', '8894', '10834', '8897', '8900',\n",
       "       '8901', '9021', '8902', '8904', '8905', '8906', '9592', '8910',\n",
       "       '8908', '10837', '8911', '2604', '8913', '10838', '9660', '2607',\n",
       "       '9044', '9052', '9051', '9053', '9046', '9090', '9054', '9049',\n",
       "       '10841', '9067', '9073', '7629', '6649', '7076', '6777', '7798',\n",
       "       '7799', '6794', '6807', '8130', '8131', '7693', '7694', '7925',\n",
       "       '7927', '7930', '7818', '1726', '1727', '1728', '1873', '1876',\n",
       "       '1878', '1879', '1880', '1931', '1934', '1935', '1964', '1962',\n",
       "       '1982', '1984', '8123', '7829', '9050', '7867', '6307', '8125',\n",
       "       '8126', '8129', '8133', '8094', '8095', '8096', '8097', '8122',\n",
       "       '8124', '7809', '1963', '7804', '3824', '3825', '10329', '3828',\n",
       "       '1877', '1874', '10335', '10333', '392', '393', '397', '398',\n",
       "       '10330', '5283', '5288', '5290', '5297', '5298', '5300', '374',\n",
       "       '10332', '440', '441', '437', '445', '446', '448', '449', '451',\n",
       "       '455', '456', '454', '457', '459', '5532', '5542', '5543', '5544',\n",
       "       '10395', '10396', '10398', '10397', '10399', '10400', '10402',\n",
       "       '8877', '8881', '9121', '9122', '9120', '9124', '9126', '9125',\n",
       "       '8868', '8887', '8886', '7248', '9661', '9091', '2608', '10784',\n",
       "       '9927', '2605', '9928', '2610', '2611', '7812', '7072', '7075',\n",
       "       '7815', '1253', '9858', '9857', '10624', '10766', '10625', '1531',\n",
       "       '1494', '1533', '1532', '1548', '1576', '1575', '1581', '1534',\n",
       "       '10450', '1465', '426', '7805', '7808', '1872', '1875', '2871',\n",
       "       '7813', '1577', '1578', '1579', '1580', '1582', '1583', '2612',\n",
       "       '2614', '10795', '2613', '5142'], dtype=object)"
      ]
     },
     "execution_count": 73,
     "metadata": {},
     "output_type": "execute_result"
    }
   ],
   "source": [
    "print(df['KnowledgeTag'].nunique())\n",
    "df['KnowledgeTag'].unique()"
   ]
  },
  {
   "cell_type": "code",
   "execution_count": 23,
   "metadata": {},
   "outputs": [
    {
     "data": {
      "text/plain": [
       "[]"
      ]
     },
     "execution_count": 23,
     "metadata": {},
     "output_type": "execute_result"
    },
    {
     "data": {
      "image/png": "[encoded data removed]",
      "text/plain": [
       "<Figure size 640x480 with 1 Axes>"
      ]
     },
     "metadata": {},
     "output_type": "display_data"
    }
   ],
   "source": [
    "plt.plot(df['KnowledgeTag'].value_counts())\n",
    "plt.gca().axes.xaxis.set_ticks([])"
   ]
  },
  {
   "cell_type": "markdown",
   "metadata": {},
   "source": [
    "### testID"
   ]
  },
  {
   "cell_type": "code",
   "execution_count": 11,
   "metadata": {},
   "outputs": [],
   "source": [
    "def percentile(s):\n",
    "    return np.sum(s) / len(s)"
   ]
  },
  {
   "cell_type": "code",
   "execution_count": 12,
   "metadata": {},
   "outputs": [
    {
     "data": {
      "text/html": [
       "<div>\n",
       "<style scoped>\n",
       "    .dataframe tbody tr th:only-of-type {\n",
       "        vertical-align: middle;\n",
       "    }\n",
       "\n",
       "    .dataframe tbody tr th {\n",
       "        vertical-align: top;\n",
       "    }\n",
       "\n",
       "    .dataframe thead th {\n",
       "        text-align: right;\n",
       "    }\n",
       "</style>\n",
       "<table border=\"1\" class=\"dataframe\">\n",
       "  <thead>\n",
       "    <tr style=\"text-align: right;\">\n",
       "      <th></th>\n",
       "      <th>userID</th>\n",
       "      <th>answerCode</th>\n",
       "    </tr>\n",
       "  </thead>\n",
       "  <tbody>\n",
       "    <tr>\n",
       "      <th>count</th>\n",
       "      <td>1537.000000</td>\n",
       "      <td>1537.000000</td>\n",
       "    </tr>\n",
       "    <tr>\n",
       "      <th>mean</th>\n",
       "      <td>1474.681848</td>\n",
       "      <td>0.667982</td>\n",
       "    </tr>\n",
       "    <tr>\n",
       "      <th>std</th>\n",
       "      <td>533.526783</td>\n",
       "      <td>0.138903</td>\n",
       "    </tr>\n",
       "    <tr>\n",
       "      <th>min</th>\n",
       "      <td>172.000000</td>\n",
       "      <td>0.327186</td>\n",
       "    </tr>\n",
       "    <tr>\n",
       "      <th>25%</th>\n",
       "      <td>1320.000000</td>\n",
       "      <td>0.561819</td>\n",
       "    </tr>\n",
       "    <tr>\n",
       "      <th>50%</th>\n",
       "      <td>1400.000000</td>\n",
       "      <td>0.680519</td>\n",
       "    </tr>\n",
       "    <tr>\n",
       "      <th>75%</th>\n",
       "      <td>1602.000000</td>\n",
       "      <td>0.778439</td>\n",
       "    </tr>\n",
       "    <tr>\n",
       "      <th>max</th>\n",
       "      <td>3960.000000</td>\n",
       "      <td>0.955474</td>\n",
       "    </tr>\n",
       "  </tbody>\n",
       "</table>\n",
       "</div>"
      ],
      "text/plain": [
       "            userID   answerCode\n",
       "count  1537.000000  1537.000000\n",
       "mean   1474.681848     0.667982\n",
       "std     533.526783     0.138903\n",
       "min     172.000000     0.327186\n",
       "25%    1320.000000     0.561819\n",
       "50%    1400.000000     0.680519\n",
       "75%    1602.000000     0.778439\n",
       "max    3960.000000     0.955474"
      ]
     },
     "execution_count": 12,
     "metadata": {},
     "output_type": "execute_result"
    }
   ],
   "source": [
    "testID_groupby = df.groupby('testID').agg({\n",
    "    'userID': 'count',\n",
    "    'answerCode': percentile\n",
    "})\n",
    "testID_groupby.describe()"
   ]
  },
  {
   "cell_type": "code",
   "execution_count": 20,
   "metadata": {},
   "outputs": [
    {
     "data": {
      "text/html": [
       "<div>\n",
       "<style scoped>\n",
       "    .dataframe tbody tr th:only-of-type {\n",
       "        vertical-align: middle;\n",
       "    }\n",
       "\n",
       "    .dataframe tbody tr th {\n",
       "        vertical-align: top;\n",
       "    }\n",
       "\n",
       "    .dataframe thead th {\n",
       "        text-align: right;\n",
       "    }\n",
       "</style>\n",
       "<table border=\"1\" class=\"dataframe\">\n",
       "  <thead>\n",
       "    <tr style=\"text-align: right;\">\n",
       "      <th></th>\n",
       "      <th>userID</th>\n",
       "      <th>answerCode</th>\n",
       "    </tr>\n",
       "    <tr>\n",
       "      <th>testID</th>\n",
       "      <th></th>\n",
       "      <th></th>\n",
       "    </tr>\n",
       "  </thead>\n",
       "  <tbody>\n",
       "    <tr>\n",
       "      <th>010001</th>\n",
       "      <td>1585</td>\n",
       "      <td>0.926183</td>\n",
       "    </tr>\n",
       "    <tr>\n",
       "      <th>010002</th>\n",
       "      <td>1550</td>\n",
       "      <td>0.931613</td>\n",
       "    </tr>\n",
       "    <tr>\n",
       "      <th>010003</th>\n",
       "      <td>1615</td>\n",
       "      <td>0.846440</td>\n",
       "    </tr>\n",
       "    <tr>\n",
       "      <th>010004</th>\n",
       "      <td>1540</td>\n",
       "      <td>0.883117</td>\n",
       "    </tr>\n",
       "    <tr>\n",
       "      <th>010005</th>\n",
       "      <td>1595</td>\n",
       "      <td>0.855172</td>\n",
       "    </tr>\n",
       "    <tr>\n",
       "      <th>...</th>\n",
       "      <td>...</td>\n",
       "      <td>...</td>\n",
       "    </tr>\n",
       "    <tr>\n",
       "      <th>090070</th>\n",
       "      <td>344</td>\n",
       "      <td>0.418605</td>\n",
       "    </tr>\n",
       "    <tr>\n",
       "      <th>090071</th>\n",
       "      <td>360</td>\n",
       "      <td>0.336111</td>\n",
       "    </tr>\n",
       "    <tr>\n",
       "      <th>090072</th>\n",
       "      <td>270</td>\n",
       "      <td>0.418519</td>\n",
       "    </tr>\n",
       "    <tr>\n",
       "      <th>090073</th>\n",
       "      <td>270</td>\n",
       "      <td>0.529630</td>\n",
       "    </tr>\n",
       "    <tr>\n",
       "      <th>090074</th>\n",
       "      <td>270</td>\n",
       "      <td>0.425926</td>\n",
       "    </tr>\n",
       "  </tbody>\n",
       "</table>\n",
       "<p>1537 rows × 2 columns</p>\n",
       "</div>"
      ],
      "text/plain": [
       "        userID  answerCode\n",
       "testID                    \n",
       "010001    1585    0.926183\n",
       "010002    1550    0.931613\n",
       "010003    1615    0.846440\n",
       "010004    1540    0.883117\n",
       "010005    1595    0.855172\n",
       "...        ...         ...\n",
       "090070     344    0.418605\n",
       "090071     360    0.336111\n",
       "090072     270    0.418519\n",
       "090073     270    0.529630\n",
       "090074     270    0.425926\n",
       "\n",
       "[1537 rows x 2 columns]"
      ]
     },
     "execution_count": 20,
     "metadata": {},
     "output_type": "execute_result"
    }
   ],
   "source": [
    "testID_groupby"
   ]
  },
  {
   "cell_type": "code",
   "execution_count": 28,
   "metadata": {},
   "outputs": [
    {
     "data": {
      "text/plain": [
       "[]"
      ]
     },
     "execution_count": 28,
     "metadata": {},
     "output_type": "execute_result"
    },
    {
     "data": {
      "image/png": "[encoded data removed]",
      "text/plain": [
       "<Figure size 3000x500 with 1 Axes>"
      ]
     },
     "metadata": {},
     "output_type": "display_data"
    }
   ],
   "source": [
    "fig, ax = plt.subplots(figsize=(30, 5))\n",
    "plt.bar(testID_groupby.index, testID_groupby['answerCode'])\n",
    "ax.set_title('Answer Rate by testID')\n",
    "ax.set_xlabel('testID')\n",
    "ax.set_ylabel('Anser Rate')\n",
    "ax.axhline(testID_groupby['answerCode'].mean(), color='red')\n",
    "ax.grid(visible=True)\n",
    "plt.gca().axes.xaxis.set_ticks([])"
   ]
  },
  {
   "cell_type": "code",
   "execution_count": 25,
   "metadata": {},
   "outputs": [
    {
     "data": {
      "image/png": "[encoded data removed]",
      "text/plain": [
       "<Figure size 3000x500 with 1 Axes>"
      ]
     },
     "metadata": {},
     "output_type": "display_data"
    }
   ],
   "source": [
    "fig, ax = plt.subplots(figsize=(30, 5))\n",
    "plt.bar(testID_groupby.index[:30], testID_groupby['answerCode'][:30])\n",
    "ax.set_title('Answer Rate by testID')\n",
    "ax.set_xlabel('testID')\n",
    "ax.set_ylabel('Anser Rate')\n",
    "ax.axhline(testID_groupby['answerCode'].mean(), color='red')\n",
    "ax.grid(visible=True)"
   ]
  },
  {
   "cell_type": "markdown",
   "metadata": {},
   "source": [
    "### testID1"
   ]
  },
  {
   "cell_type": "code",
   "execution_count": 38,
   "metadata": {},
   "outputs": [
    {
     "data": {
      "text/html": [
       "<div>\n",
       "<style scoped>\n",
       "    .dataframe tbody tr th:only-of-type {\n",
       "        vertical-align: middle;\n",
       "    }\n",
       "\n",
       "    .dataframe tbody tr th {\n",
       "        vertical-align: top;\n",
       "    }\n",
       "\n",
       "    .dataframe thead th {\n",
       "        text-align: right;\n",
       "    }\n",
       "</style>\n",
       "<table border=\"1\" class=\"dataframe\">\n",
       "  <thead>\n",
       "    <tr style=\"text-align: right;\">\n",
       "      <th></th>\n",
       "      <th>userID</th>\n",
       "      <th>answerCode</th>\n",
       "    </tr>\n",
       "  </thead>\n",
       "  <tbody>\n",
       "    <tr>\n",
       "      <th>count</th>\n",
       "      <td>9.000000</td>\n",
       "      <td>9.000000</td>\n",
       "    </tr>\n",
       "    <tr>\n",
       "      <th>mean</th>\n",
       "      <td>251842.888889</td>\n",
       "      <td>0.640736</td>\n",
       "    </tr>\n",
       "    <tr>\n",
       "      <th>std</th>\n",
       "      <td>50564.904297</td>\n",
       "      <td>0.120048</td>\n",
       "    </tr>\n",
       "    <tr>\n",
       "      <th>min</th>\n",
       "      <td>119385.000000</td>\n",
       "      <td>0.449948</td>\n",
       "    </tr>\n",
       "    <tr>\n",
       "      <th>25%</th>\n",
       "      <td>264434.000000</td>\n",
       "      <td>0.521876</td>\n",
       "    </tr>\n",
       "    <tr>\n",
       "      <th>50%</th>\n",
       "      <td>268327.000000</td>\n",
       "      <td>0.684056</td>\n",
       "    </tr>\n",
       "    <tr>\n",
       "      <th>75%</th>\n",
       "      <td>273762.000000</td>\n",
       "      <td>0.709232</td>\n",
       "    </tr>\n",
       "    <tr>\n",
       "      <th>max</th>\n",
       "      <td>279164.000000</td>\n",
       "      <td>0.800876</td>\n",
       "    </tr>\n",
       "  </tbody>\n",
       "</table>\n",
       "</div>"
      ],
      "text/plain": [
       "              userID  answerCode\n",
       "count       9.000000    9.000000\n",
       "mean   251842.888889    0.640736\n",
       "std     50564.904297    0.120048\n",
       "min    119385.000000    0.449948\n",
       "25%    264434.000000    0.521876\n",
       "50%    268327.000000    0.684056\n",
       "75%    273762.000000    0.709232\n",
       "max    279164.000000    0.800876"
      ]
     },
     "execution_count": 38,
     "metadata": {},
     "output_type": "execute_result"
    }
   ],
   "source": [
    "testID1_groupby = df.groupby('testID1').agg({\n",
    "    'userID': 'count',\n",
    "    'answerCode': percentile\n",
    "})\n",
    "testID1_groupby.describe()"
   ]
  },
  {
   "cell_type": "code",
   "execution_count": 39,
   "metadata": {},
   "outputs": [
    {
     "data": {
      "text/html": [
       "<div>\n",
       "<style scoped>\n",
       "    .dataframe tbody tr th:only-of-type {\n",
       "        vertical-align: middle;\n",
       "    }\n",
       "\n",
       "    .dataframe tbody tr th {\n",
       "        vertical-align: top;\n",
       "    }\n",
       "\n",
       "    .dataframe thead th {\n",
       "        text-align: right;\n",
       "    }\n",
       "</style>\n",
       "<table border=\"1\" class=\"dataframe\">\n",
       "  <thead>\n",
       "    <tr style=\"text-align: right;\">\n",
       "      <th></th>\n",
       "      <th>userID</th>\n",
       "      <th>answerCode</th>\n",
       "    </tr>\n",
       "    <tr>\n",
       "      <th>testID1</th>\n",
       "      <th></th>\n",
       "      <th></th>\n",
       "    </tr>\n",
       "  </thead>\n",
       "  <tbody>\n",
       "    <tr>\n",
       "      <th>010</th>\n",
       "      <td>272082</td>\n",
       "      <td>0.800876</td>\n",
       "    </tr>\n",
       "    <tr>\n",
       "      <th>020</th>\n",
       "      <td>268327</td>\n",
       "      <td>0.737593</td>\n",
       "    </tr>\n",
       "    <tr>\n",
       "      <th>030</th>\n",
       "      <td>273762</td>\n",
       "      <td>0.702238</td>\n",
       "    </tr>\n",
       "    <tr>\n",
       "      <th>040</th>\n",
       "      <td>267323</td>\n",
       "      <td>0.684056</td>\n",
       "    </tr>\n",
       "    <tr>\n",
       "      <th>050</th>\n",
       "      <td>275773</td>\n",
       "      <td>0.658208</td>\n",
       "    </tr>\n",
       "    <tr>\n",
       "      <th>060</th>\n",
       "      <td>264434</td>\n",
       "      <td>0.709232</td>\n",
       "    </tr>\n",
       "    <tr>\n",
       "      <th>070</th>\n",
       "      <td>279164</td>\n",
       "      <td>0.521876</td>\n",
       "    </tr>\n",
       "    <tr>\n",
       "      <th>080</th>\n",
       "      <td>246336</td>\n",
       "      <td>0.502598</td>\n",
       "    </tr>\n",
       "    <tr>\n",
       "      <th>090</th>\n",
       "      <td>119385</td>\n",
       "      <td>0.449948</td>\n",
       "    </tr>\n",
       "  </tbody>\n",
       "</table>\n",
       "</div>"
      ],
      "text/plain": [
       "         userID  answerCode\n",
       "testID1                    \n",
       "010      272082    0.800876\n",
       "020      268327    0.737593\n",
       "030      273762    0.702238\n",
       "040      267323    0.684056\n",
       "050      275773    0.658208\n",
       "060      264434    0.709232\n",
       "070      279164    0.521876\n",
       "080      246336    0.502598\n",
       "090      119385    0.449948"
      ]
     },
     "execution_count": 39,
     "metadata": {},
     "output_type": "execute_result"
    }
   ],
   "source": [
    "testID1_groupby"
   ]
  },
  {
   "cell_type": "code",
   "execution_count": 55,
   "metadata": {},
   "outputs": [
    {
     "data": {
      "image/png": "[encoded data removed]",
      "text/plain": [
       "<Figure size 640x480 with 1 Axes>"
      ]
     },
     "metadata": {},
     "output_type": "display_data"
    }
   ],
   "source": [
    "fig, ax = plt.subplots()\n",
    "plt.bar(testID1_groupby.index, testID1_groupby['answerCode'])\n",
    "ax.set_title('Answer Rate by testID1')\n",
    "ax.set_xlabel('testID1')\n",
    "ax.set_ylabel('Anser Rate')\n",
    "ax.axhline(testID1_groupby['answerCode'].mean(), color='red')\n",
    "ax.grid(visible=True)"
   ]
  },
  {
   "cell_type": "markdown",
   "metadata": {},
   "source": [
    "### testID2"
   ]
  },
  {
   "cell_type": "code",
   "execution_count": 17,
   "metadata": {},
   "outputs": [
    {
     "data": {
      "text/html": [
       "<div>\n",
       "<style scoped>\n",
       "    .dataframe tbody tr th:only-of-type {\n",
       "        vertical-align: middle;\n",
       "    }\n",
       "\n",
       "    .dataframe tbody tr th {\n",
       "        vertical-align: top;\n",
       "    }\n",
       "\n",
       "    .dataframe thead th {\n",
       "        text-align: right;\n",
       "    }\n",
       "</style>\n",
       "<table border=\"1\" class=\"dataframe\">\n",
       "  <thead>\n",
       "    <tr style=\"text-align: right;\">\n",
       "      <th></th>\n",
       "      <th>userID</th>\n",
       "      <th>answerCode</th>\n",
       "    </tr>\n",
       "  </thead>\n",
       "  <tbody>\n",
       "    <tr>\n",
       "      <th>count</th>\n",
       "      <td>198.000000</td>\n",
       "      <td>198.000000</td>\n",
       "    </tr>\n",
       "    <tr>\n",
       "      <th>mean</th>\n",
       "      <td>11447.404040</td>\n",
       "      <td>0.667781</td>\n",
       "    </tr>\n",
       "    <tr>\n",
       "      <th>std</th>\n",
       "      <td>3305.994004</td>\n",
       "      <td>0.065223</td>\n",
       "    </tr>\n",
       "    <tr>\n",
       "      <th>min</th>\n",
       "      <td>951.000000</td>\n",
       "      <td>0.529107</td>\n",
       "    </tr>\n",
       "    <tr>\n",
       "      <th>25%</th>\n",
       "      <td>10069.000000</td>\n",
       "      <td>0.617677</td>\n",
       "    </tr>\n",
       "    <tr>\n",
       "      <th>50%</th>\n",
       "      <td>12179.000000</td>\n",
       "      <td>0.662560</td>\n",
       "    </tr>\n",
       "    <tr>\n",
       "      <th>75%</th>\n",
       "      <td>13691.500000</td>\n",
       "      <td>0.704941</td>\n",
       "    </tr>\n",
       "    <tr>\n",
       "      <th>max</th>\n",
       "      <td>17739.000000</td>\n",
       "      <td>0.895706</td>\n",
       "    </tr>\n",
       "  </tbody>\n",
       "</table>\n",
       "</div>"
      ],
      "text/plain": [
       "             userID  answerCode\n",
       "count    198.000000  198.000000\n",
       "mean   11447.404040    0.667781\n",
       "std     3305.994004    0.065223\n",
       "min      951.000000    0.529107\n",
       "25%    10069.000000    0.617677\n",
       "50%    12179.000000    0.662560\n",
       "75%    13691.500000    0.704941\n",
       "max    17739.000000    0.895706"
      ]
     },
     "execution_count": 17,
     "metadata": {},
     "output_type": "execute_result"
    }
   ],
   "source": [
    "testID2_groupby = df.groupby('testID2').agg({\n",
    "    'userID': 'count',\n",
    "    'answerCode': percentile\n",
    "})\n",
    "testID2_groupby.describe()"
   ]
  },
  {
   "cell_type": "code",
   "execution_count": 58,
   "metadata": {},
   "outputs": [
    {
     "data": {
      "text/html": [
       "<div>\n",
       "<style scoped>\n",
       "    .dataframe tbody tr th:only-of-type {\n",
       "        vertical-align: middle;\n",
       "    }\n",
       "\n",
       "    .dataframe tbody tr th {\n",
       "        vertical-align: top;\n",
       "    }\n",
       "\n",
       "    .dataframe thead th {\n",
       "        text-align: right;\n",
       "    }\n",
       "</style>\n",
       "<table border=\"1\" class=\"dataframe\">\n",
       "  <thead>\n",
       "    <tr style=\"text-align: right;\">\n",
       "      <th></th>\n",
       "      <th>userID</th>\n",
       "      <th>answerCode</th>\n",
       "    </tr>\n",
       "    <tr>\n",
       "      <th>testID2</th>\n",
       "      <th></th>\n",
       "      <th></th>\n",
       "    </tr>\n",
       "  </thead>\n",
       "  <tbody>\n",
       "    <tr>\n",
       "      <th>001</th>\n",
       "      <td>14911</td>\n",
       "      <td>0.710348</td>\n",
       "    </tr>\n",
       "    <tr>\n",
       "      <th>002</th>\n",
       "      <td>12390</td>\n",
       "      <td>0.774011</td>\n",
       "    </tr>\n",
       "    <tr>\n",
       "      <th>003</th>\n",
       "      <td>16970</td>\n",
       "      <td>0.626930</td>\n",
       "    </tr>\n",
       "    <tr>\n",
       "      <th>004</th>\n",
       "      <td>12332</td>\n",
       "      <td>0.678803</td>\n",
       "    </tr>\n",
       "    <tr>\n",
       "      <th>005</th>\n",
       "      <td>16325</td>\n",
       "      <td>0.617519</td>\n",
       "    </tr>\n",
       "    <tr>\n",
       "      <th>...</th>\n",
       "      <td>...</td>\n",
       "      <td>...</td>\n",
       "    </tr>\n",
       "    <tr>\n",
       "      <th>194</th>\n",
       "      <td>2596</td>\n",
       "      <td>0.694145</td>\n",
       "    </tr>\n",
       "    <tr>\n",
       "      <th>195</th>\n",
       "      <td>4417</td>\n",
       "      <td>0.835409</td>\n",
       "    </tr>\n",
       "    <tr>\n",
       "      <th>196</th>\n",
       "      <td>1304</td>\n",
       "      <td>0.895706</td>\n",
       "    </tr>\n",
       "    <tr>\n",
       "      <th>197</th>\n",
       "      <td>2973</td>\n",
       "      <td>0.757820</td>\n",
       "    </tr>\n",
       "    <tr>\n",
       "      <th>198</th>\n",
       "      <td>951</td>\n",
       "      <td>0.853838</td>\n",
       "    </tr>\n",
       "  </tbody>\n",
       "</table>\n",
       "<p>198 rows × 2 columns</p>\n",
       "</div>"
      ],
      "text/plain": [
       "         userID  answerCode\n",
       "testID2                    \n",
       "001       14911    0.710348\n",
       "002       12390    0.774011\n",
       "003       16970    0.626930\n",
       "004       12332    0.678803\n",
       "005       16325    0.617519\n",
       "...         ...         ...\n",
       "194        2596    0.694145\n",
       "195        4417    0.835409\n",
       "196        1304    0.895706\n",
       "197        2973    0.757820\n",
       "198         951    0.853838\n",
       "\n",
       "[198 rows x 2 columns]"
      ]
     },
     "execution_count": 58,
     "metadata": {},
     "output_type": "execute_result"
    }
   ],
   "source": [
    "testID2_groupby"
   ]
  },
  {
   "cell_type": "code",
   "execution_count": 20,
   "metadata": {},
   "outputs": [
    {
     "data": {
      "text/plain": [
       "[]"
      ]
     },
     "execution_count": 20,
     "metadata": {},
     "output_type": "execute_result"
    },
    {
     "data": {
      "image/png": "[encoded data removed]",
      "text/plain": [
       "<Figure size 2000x500 with 1 Axes>"
      ]
     },
     "metadata": {},
     "output_type": "display_data"
    }
   ],
   "source": [
    "fig, ax = plt.subplots(figsize=(20, 5))\n",
    "plt.bar(testID2_groupby.index, testID2_groupby['answerCode'])\n",
    "ax.set_title('Answer Rate by testID2')\n",
    "ax.set_xlabel('testID2')\n",
    "ax.set_ylabel('Anser Rate')\n",
    "ax.axhline(testID2_groupby['answerCode'].mean(), color='red')\n",
    "ax.grid(visible=True)\n",
    "plt.gca().axes.xaxis.set_ticks([])"
   ]
  },
  {
   "cell_type": "markdown",
   "metadata": {},
   "source": [
    "### testNum"
   ]
  },
  {
   "cell_type": "code",
   "execution_count": 75,
   "metadata": {},
   "outputs": [
    {
     "data": {
      "text/html": [
       "<div>\n",
       "<style scoped>\n",
       "    .dataframe tbody tr th:only-of-type {\n",
       "        vertical-align: middle;\n",
       "    }\n",
       "\n",
       "    .dataframe tbody tr th {\n",
       "        vertical-align: top;\n",
       "    }\n",
       "\n",
       "    .dataframe thead th {\n",
       "        text-align: right;\n",
       "    }\n",
       "</style>\n",
       "<table border=\"1\" class=\"dataframe\">\n",
       "  <thead>\n",
       "    <tr style=\"text-align: right;\">\n",
       "      <th></th>\n",
       "      <th>userID</th>\n",
       "      <th>answerCode</th>\n",
       "    </tr>\n",
       "  </thead>\n",
       "  <tbody>\n",
       "    <tr>\n",
       "      <th>count</th>\n",
       "      <td>13.000000</td>\n",
       "      <td>13.000000</td>\n",
       "    </tr>\n",
       "    <tr>\n",
       "      <th>mean</th>\n",
       "      <td>174352.769231</td>\n",
       "      <td>0.539218</td>\n",
       "    </tr>\n",
       "    <tr>\n",
       "      <th>std</th>\n",
       "      <td>169715.394259</td>\n",
       "      <td>0.151571</td>\n",
       "    </tr>\n",
       "    <tr>\n",
       "      <th>min</th>\n",
       "      <td>269.000000</td>\n",
       "      <td>0.200743</td>\n",
       "    </tr>\n",
       "    <tr>\n",
       "      <th>25%</th>\n",
       "      <td>5342.000000</td>\n",
       "      <td>0.480609</td>\n",
       "    </tr>\n",
       "    <tr>\n",
       "      <th>50%</th>\n",
       "      <td>127121.000000</td>\n",
       "      <td>0.527892</td>\n",
       "    </tr>\n",
       "    <tr>\n",
       "      <th>75%</th>\n",
       "      <td>369705.000000</td>\n",
       "      <td>0.663364</td>\n",
       "    </tr>\n",
       "    <tr>\n",
       "      <th>max</th>\n",
       "      <td>371755.000000</td>\n",
       "      <td>0.749916</td>\n",
       "    </tr>\n",
       "  </tbody>\n",
       "</table>\n",
       "</div>"
      ],
      "text/plain": [
       "              userID  answerCode\n",
       "count      13.000000   13.000000\n",
       "mean   174352.769231    0.539218\n",
       "std    169715.394259    0.151571\n",
       "min       269.000000    0.200743\n",
       "25%      5342.000000    0.480609\n",
       "50%    127121.000000    0.527892\n",
       "75%    369705.000000    0.663364\n",
       "max    371755.000000    0.749916"
      ]
     },
     "execution_count": 75,
     "metadata": {},
     "output_type": "execute_result"
    }
   ],
   "source": [
    "testNum_groupby = df.groupby('testNum').agg({\n",
    "    'userID': 'count',\n",
    "    'answerCode': percentile\n",
    "})\n",
    "testNum_groupby.describe()"
   ]
  },
  {
   "cell_type": "code",
   "execution_count": 76,
   "metadata": {},
   "outputs": [
    {
     "data": {
      "text/html": [
       "<div>\n",
       "<style scoped>\n",
       "    .dataframe tbody tr th:only-of-type {\n",
       "        vertical-align: middle;\n",
       "    }\n",
       "\n",
       "    .dataframe tbody tr th {\n",
       "        vertical-align: top;\n",
       "    }\n",
       "\n",
       "    .dataframe thead th {\n",
       "        text-align: right;\n",
       "    }\n",
       "</style>\n",
       "<table border=\"1\" class=\"dataframe\">\n",
       "  <thead>\n",
       "    <tr style=\"text-align: right;\">\n",
       "      <th></th>\n",
       "      <th>userID</th>\n",
       "      <th>answerCode</th>\n",
       "    </tr>\n",
       "    <tr>\n",
       "      <th>testNum</th>\n",
       "      <th></th>\n",
       "      <th></th>\n",
       "    </tr>\n",
       "  </thead>\n",
       "  <tbody>\n",
       "    <tr>\n",
       "      <th>001</th>\n",
       "      <td>371755</td>\n",
       "      <td>0.749916</td>\n",
       "    </tr>\n",
       "    <tr>\n",
       "      <th>002</th>\n",
       "      <td>370972</td>\n",
       "      <td>0.720062</td>\n",
       "    </tr>\n",
       "    <tr>\n",
       "      <th>003</th>\n",
       "      <td>371640</td>\n",
       "      <td>0.687773</td>\n",
       "    </tr>\n",
       "    <tr>\n",
       "      <th>004</th>\n",
       "      <td>369705</td>\n",
       "      <td>0.663364</td>\n",
       "    </tr>\n",
       "    <tr>\n",
       "      <th>005</th>\n",
       "      <td>360607</td>\n",
       "      <td>0.599134</td>\n",
       "    </tr>\n",
       "    <tr>\n",
       "      <th>006</th>\n",
       "      <td>197772</td>\n",
       "      <td>0.555685</td>\n",
       "    </tr>\n",
       "    <tr>\n",
       "      <th>007</th>\n",
       "      <td>127121</td>\n",
       "      <td>0.515399</td>\n",
       "    </tr>\n",
       "    <tr>\n",
       "      <th>008</th>\n",
       "      <td>67150</td>\n",
       "      <td>0.457156</td>\n",
       "    </tr>\n",
       "    <tr>\n",
       "      <th>009</th>\n",
       "      <td>18417</td>\n",
       "      <td>0.481729</td>\n",
       "    </tr>\n",
       "    <tr>\n",
       "      <th>010</th>\n",
       "      <td>5342</td>\n",
       "      <td>0.527892</td>\n",
       "    </tr>\n",
       "    <tr>\n",
       "      <th>011</th>\n",
       "      <td>3352</td>\n",
       "      <td>0.480609</td>\n",
       "    </tr>\n",
       "    <tr>\n",
       "      <th>012</th>\n",
       "      <td>2484</td>\n",
       "      <td>0.370370</td>\n",
       "    </tr>\n",
       "    <tr>\n",
       "      <th>013</th>\n",
       "      <td>269</td>\n",
       "      <td>0.200743</td>\n",
       "    </tr>\n",
       "  </tbody>\n",
       "</table>\n",
       "</div>"
      ],
      "text/plain": [
       "         userID  answerCode\n",
       "testNum                    \n",
       "001      371755    0.749916\n",
       "002      370972    0.720062\n",
       "003      371640    0.687773\n",
       "004      369705    0.663364\n",
       "005      360607    0.599134\n",
       "006      197772    0.555685\n",
       "007      127121    0.515399\n",
       "008       67150    0.457156\n",
       "009       18417    0.481729\n",
       "010        5342    0.527892\n",
       "011        3352    0.480609\n",
       "012        2484    0.370370\n",
       "013         269    0.200743"
      ]
     },
     "execution_count": 76,
     "metadata": {},
     "output_type": "execute_result"
    }
   ],
   "source": [
    "testNum_groupby"
   ]
  },
  {
   "cell_type": "code",
   "execution_count": 77,
   "metadata": {},
   "outputs": [
    {
     "data": {
      "image/png": "[encoded data removed]",
      "text/plain": [
       "<Figure size 640x480 with 1 Axes>"
      ]
     },
     "metadata": {},
     "output_type": "display_data"
    }
   ],
   "source": [
    "fig, ax = plt.subplots()\n",
    "plt.bar(testNum_groupby.index, testNum_groupby['answerCode'])\n",
    "ax.set_title('Answer Rate by testNum')\n",
    "ax.set_xlabel('testNum')\n",
    "ax.set_ylabel('Anser Rate')\n",
    "ax.axhline(testNum_groupby['answerCode'].mean(), color='red')\n",
    "ax.grid(visible=True)"
   ]
  },
  {
   "cell_type": "markdown",
   "metadata": {},
   "source": [
    "### KnowledgeTag"
   ]
  },
  {
   "cell_type": "code",
   "execution_count": 29,
   "metadata": {},
   "outputs": [
    {
     "data": {
      "text/html": [
       "<div>\n",
       "<style scoped>\n",
       "    .dataframe tbody tr th:only-of-type {\n",
       "        vertical-align: middle;\n",
       "    }\n",
       "\n",
       "    .dataframe tbody tr th {\n",
       "        vertical-align: top;\n",
       "    }\n",
       "\n",
       "    .dataframe thead th {\n",
       "        text-align: right;\n",
       "    }\n",
       "</style>\n",
       "<table border=\"1\" class=\"dataframe\">\n",
       "  <thead>\n",
       "    <tr style=\"text-align: right;\">\n",
       "      <th></th>\n",
       "      <th>userID</th>\n",
       "      <th>answerCode</th>\n",
       "    </tr>\n",
       "  </thead>\n",
       "  <tbody>\n",
       "    <tr>\n",
       "      <th>count</th>\n",
       "      <td>912.000000</td>\n",
       "      <td>912.000000</td>\n",
       "    </tr>\n",
       "    <tr>\n",
       "      <th>mean</th>\n",
       "      <td>2485.291667</td>\n",
       "      <td>0.615524</td>\n",
       "    </tr>\n",
       "    <tr>\n",
       "      <th>std</th>\n",
       "      <td>1732.086925</td>\n",
       "      <td>0.148329</td>\n",
       "    </tr>\n",
       "    <tr>\n",
       "      <th>min</th>\n",
       "      <td>44.000000</td>\n",
       "      <td>0.188940</td>\n",
       "    </tr>\n",
       "    <tr>\n",
       "      <th>25%</th>\n",
       "      <td>1025.250000</td>\n",
       "      <td>0.498239</td>\n",
       "    </tr>\n",
       "    <tr>\n",
       "      <th>50%</th>\n",
       "      <td>2204.000000</td>\n",
       "      <td>0.599585</td>\n",
       "    </tr>\n",
       "    <tr>\n",
       "      <th>75%</th>\n",
       "      <td>4052.750000</td>\n",
       "      <td>0.740288</td>\n",
       "    </tr>\n",
       "    <tr>\n",
       "      <th>max</th>\n",
       "      <td>12892.000000</td>\n",
       "      <td>0.977778</td>\n",
       "    </tr>\n",
       "  </tbody>\n",
       "</table>\n",
       "</div>"
      ],
      "text/plain": [
       "             userID  answerCode\n",
       "count    912.000000  912.000000\n",
       "mean    2485.291667    0.615524\n",
       "std     1732.086925    0.148329\n",
       "min       44.000000    0.188940\n",
       "25%     1025.250000    0.498239\n",
       "50%     2204.000000    0.599585\n",
       "75%     4052.750000    0.740288\n",
       "max    12892.000000    0.977778"
      ]
     },
     "execution_count": 29,
     "metadata": {},
     "output_type": "execute_result"
    }
   ],
   "source": [
    "KnowledgeTag_groupby = df.groupby('KnowledgeTag').agg({\n",
    "    'userID': 'count',\n",
    "    'answerCode': percentile\n",
    "})\n",
    "KnowledgeTag_groupby.describe()"
   ]
  },
  {
   "cell_type": "code",
   "execution_count": 79,
   "metadata": {},
   "outputs": [
    {
     "data": {
      "text/html": [
       "<div>\n",
       "<style scoped>\n",
       "    .dataframe tbody tr th:only-of-type {\n",
       "        vertical-align: middle;\n",
       "    }\n",
       "\n",
       "    .dataframe tbody tr th {\n",
       "        vertical-align: top;\n",
       "    }\n",
       "\n",
       "    .dataframe thead th {\n",
       "        text-align: right;\n",
       "    }\n",
       "</style>\n",
       "<table border=\"1\" class=\"dataframe\">\n",
       "  <thead>\n",
       "    <tr style=\"text-align: right;\">\n",
       "      <th></th>\n",
       "      <th>userID</th>\n",
       "      <th>answerCode</th>\n",
       "    </tr>\n",
       "    <tr>\n",
       "      <th>KnowledgeTag</th>\n",
       "      <th></th>\n",
       "      <th></th>\n",
       "    </tr>\n",
       "  </thead>\n",
       "  <tbody>\n",
       "    <tr>\n",
       "      <th>1000</th>\n",
       "      <td>321</td>\n",
       "      <td>0.523364</td>\n",
       "    </tr>\n",
       "    <tr>\n",
       "      <th>1002</th>\n",
       "      <td>732</td>\n",
       "      <td>0.411202</td>\n",
       "    </tr>\n",
       "    <tr>\n",
       "      <th>1009</th>\n",
       "      <td>182</td>\n",
       "      <td>0.384615</td>\n",
       "    </tr>\n",
       "    <tr>\n",
       "      <th>1010</th>\n",
       "      <td>1668</td>\n",
       "      <td>0.452038</td>\n",
       "    </tr>\n",
       "    <tr>\n",
       "      <th>1011</th>\n",
       "      <td>699</td>\n",
       "      <td>0.463519</td>\n",
       "    </tr>\n",
       "    <tr>\n",
       "      <th>...</th>\n",
       "      <td>...</td>\n",
       "      <td>...</td>\n",
       "    </tr>\n",
       "    <tr>\n",
       "      <th>9926</th>\n",
       "      <td>88</td>\n",
       "      <td>0.397727</td>\n",
       "    </tr>\n",
       "    <tr>\n",
       "      <th>9927</th>\n",
       "      <td>1638</td>\n",
       "      <td>0.432845</td>\n",
       "    </tr>\n",
       "    <tr>\n",
       "      <th>9928</th>\n",
       "      <td>1384</td>\n",
       "      <td>0.494220</td>\n",
       "    </tr>\n",
       "    <tr>\n",
       "      <th>9929</th>\n",
       "      <td>262</td>\n",
       "      <td>0.347328</td>\n",
       "    </tr>\n",
       "    <tr>\n",
       "      <th>9931</th>\n",
       "      <td>4481</td>\n",
       "      <td>0.884847</td>\n",
       "    </tr>\n",
       "  </tbody>\n",
       "</table>\n",
       "<p>912 rows × 2 columns</p>\n",
       "</div>"
      ],
      "text/plain": [
       "              userID  answerCode\n",
       "KnowledgeTag                    \n",
       "1000             321    0.523364\n",
       "1002             732    0.411202\n",
       "1009             182    0.384615\n",
       "1010            1668    0.452038\n",
       "1011             699    0.463519\n",
       "...              ...         ...\n",
       "9926              88    0.397727\n",
       "9927            1638    0.432845\n",
       "9928            1384    0.494220\n",
       "9929             262    0.347328\n",
       "9931            4481    0.884847\n",
       "\n",
       "[912 rows x 2 columns]"
      ]
     },
     "execution_count": 79,
     "metadata": {},
     "output_type": "execute_result"
    }
   ],
   "source": [
    "KnowledgeTag_groupby"
   ]
  },
  {
   "cell_type": "code",
   "execution_count": 30,
   "metadata": {},
   "outputs": [
    {
     "data": {
      "text/plain": [
       "[]"
      ]
     },
     "execution_count": 30,
     "metadata": {},
     "output_type": "execute_result"
    },
    {
     "data": {
      "image/png": "[encoded data removed]",
      "text/plain": [
       "<Figure size 3000x500 with 1 Axes>"
      ]
     },
     "metadata": {},
     "output_type": "display_data"
    }
   ],
   "source": [
    "fig, ax = plt.subplots(figsize=(30, 5))\n",
    "plt.bar(KnowledgeTag_groupby.index, KnowledgeTag_groupby['answerCode'])\n",
    "ax.set_title('Answer Rate by KnowledgeTag')\n",
    "ax.set_xlabel('KnowledgeTag')\n",
    "ax.set_ylabel('Anser Rate')\n",
    "ax.axhline(KnowledgeTag_groupby['answerCode'].mean(), color='red')\n",
    "ax.grid(visible=True)\n",
    "plt.gca().axes.xaxis.set_ticks([])"
   ]
  },
  {
   "cell_type": "code",
   "execution_count": 85,
   "metadata": {},
   "outputs": [
    {
     "data": {
      "image/png": "[encoded data removed]",
      "text/plain": [
       "<Figure size 2000x500 with 1 Axes>"
      ]
     },
     "metadata": {},
     "output_type": "display_data"
    }
   ],
   "source": [
    "fig, ax = plt.subplots(figsize=(20, 5))\n",
    "plt.bar(KnowledgeTag_groupby.index[:30], KnowledgeTag_groupby['answerCode'][:30])\n",
    "ax.set_title('Answer Rate by KnowledgeTag')\n",
    "ax.set_xlabel('KnowledgeTag')\n",
    "ax.set_ylabel('Anser Rate')\n",
    "ax.axhline(KnowledgeTag_groupby['answerCode'].mean(), color='red')\n",
    "ax.grid(visible=True)"
   ]
  }
 ],
 "metadata": {
  "kernelspec": {
   "display_name": "dkt",
   "language": "python",
   "name": "python3"
  },
  "language_info": {
   "codemirror_mode": {
    "name": "ipython",
    "version": 3
   },
   "file_extension": ".py",
   "mimetype": "text/x-python",
   "name": "python",
   "nbconvert_exporter": "python",
   "pygments_lexer": "ipython3",
   "version": "3.10.13"
  }
 },
 "nbformat": 4,
 "nbformat_minor": 2
}
