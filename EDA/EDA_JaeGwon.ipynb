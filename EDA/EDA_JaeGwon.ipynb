{
 "cells": [
  {
   "cell_type": "markdown",
   "metadata": {},
   "source": [
    "## Data"
   ]
  },
  {
   "cell_type": "markdown",
   "metadata": {},
   "source": [
    "### 데이터 로드"
   ]
  },
  {
   "cell_type": "code",
   "execution_count": 1,
   "metadata": {},
   "outputs": [],
   "source": [
    "import numpy as np\n",
    "import pandas as pd\n",
    "import matplotlib.pyplot as plt"
   ]
  },
  {
   "cell_type": "code",
   "execution_count": 2,
   "metadata": {},
   "outputs": [
    {
     "data": {
      "text/html": [
       "<div>\n",
       "<style scoped>\n",
       "    .dataframe tbody tr th:only-of-type {\n",
       "        vertical-align: middle;\n",
       "    }\n",
       "\n",
       "    .dataframe tbody tr th {\n",
       "        vertical-align: top;\n",
       "    }\n",
       "\n",
       "    .dataframe thead th {\n",
       "        text-align: right;\n",
       "    }\n",
       "</style>\n",
       "<table border=\"1\" class=\"dataframe\">\n",
       "  <thead>\n",
       "    <tr style=\"text-align: right;\">\n",
       "      <th></th>\n",
       "      <th>userID</th>\n",
       "      <th>assessmentItemID</th>\n",
       "      <th>testId</th>\n",
       "      <th>answerCode</th>\n",
       "      <th>Timestamp</th>\n",
       "      <th>KnowledgeTag</th>\n",
       "    </tr>\n",
       "  </thead>\n",
       "  <tbody>\n",
       "    <tr>\n",
       "      <th>0</th>\n",
       "      <td>0</td>\n",
       "      <td>A060001001</td>\n",
       "      <td>A060000001</td>\n",
       "      <td>1</td>\n",
       "      <td>2020-03-24 00:17:11</td>\n",
       "      <td>7224</td>\n",
       "    </tr>\n",
       "    <tr>\n",
       "      <th>1</th>\n",
       "      <td>0</td>\n",
       "      <td>A060001002</td>\n",
       "      <td>A060000001</td>\n",
       "      <td>1</td>\n",
       "      <td>2020-03-24 00:17:14</td>\n",
       "      <td>7225</td>\n",
       "    </tr>\n",
       "    <tr>\n",
       "      <th>2</th>\n",
       "      <td>0</td>\n",
       "      <td>A060001003</td>\n",
       "      <td>A060000001</td>\n",
       "      <td>1</td>\n",
       "      <td>2020-03-24 00:17:22</td>\n",
       "      <td>7225</td>\n",
       "    </tr>\n",
       "    <tr>\n",
       "      <th>3</th>\n",
       "      <td>0</td>\n",
       "      <td>A060001004</td>\n",
       "      <td>A060000001</td>\n",
       "      <td>1</td>\n",
       "      <td>2020-03-24 00:17:29</td>\n",
       "      <td>7225</td>\n",
       "    </tr>\n",
       "    <tr>\n",
       "      <th>4</th>\n",
       "      <td>0</td>\n",
       "      <td>A060001005</td>\n",
       "      <td>A060000001</td>\n",
       "      <td>1</td>\n",
       "      <td>2020-03-24 00:17:36</td>\n",
       "      <td>7225</td>\n",
       "    </tr>\n",
       "    <tr>\n",
       "      <th>...</th>\n",
       "      <td>...</td>\n",
       "      <td>...</td>\n",
       "      <td>...</td>\n",
       "      <td>...</td>\n",
       "      <td>...</td>\n",
       "      <td>...</td>\n",
       "    </tr>\n",
       "    <tr>\n",
       "      <th>2266581</th>\n",
       "      <td>7441</td>\n",
       "      <td>A030071005</td>\n",
       "      <td>A030000071</td>\n",
       "      <td>0</td>\n",
       "      <td>2020-06-05 06:50:21</td>\n",
       "      <td>438</td>\n",
       "    </tr>\n",
       "    <tr>\n",
       "      <th>2266582</th>\n",
       "      <td>7441</td>\n",
       "      <td>A040165001</td>\n",
       "      <td>A040000165</td>\n",
       "      <td>1</td>\n",
       "      <td>2020-08-21 01:06:39</td>\n",
       "      <td>8836</td>\n",
       "    </tr>\n",
       "    <tr>\n",
       "      <th>2266583</th>\n",
       "      <td>7441</td>\n",
       "      <td>A040165002</td>\n",
       "      <td>A040000165</td>\n",
       "      <td>1</td>\n",
       "      <td>2020-08-21 01:06:50</td>\n",
       "      <td>8836</td>\n",
       "    </tr>\n",
       "    <tr>\n",
       "      <th>2266584</th>\n",
       "      <td>7441</td>\n",
       "      <td>A040165003</td>\n",
       "      <td>A040000165</td>\n",
       "      <td>1</td>\n",
       "      <td>2020-08-21 01:07:36</td>\n",
       "      <td>8836</td>\n",
       "    </tr>\n",
       "    <tr>\n",
       "      <th>2266585</th>\n",
       "      <td>7441</td>\n",
       "      <td>A040165004</td>\n",
       "      <td>A040000165</td>\n",
       "      <td>1</td>\n",
       "      <td>2020-08-21 01:08:49</td>\n",
       "      <td>8836</td>\n",
       "    </tr>\n",
       "  </tbody>\n",
       "</table>\n",
       "<p>2266586 rows × 6 columns</p>\n",
       "</div>"
      ],
      "text/plain": [
       "         userID assessmentItemID      testId  answerCode           Timestamp  \\\n",
       "0             0       A060001001  A060000001           1 2020-03-24 00:17:11   \n",
       "1             0       A060001002  A060000001           1 2020-03-24 00:17:14   \n",
       "2             0       A060001003  A060000001           1 2020-03-24 00:17:22   \n",
       "3             0       A060001004  A060000001           1 2020-03-24 00:17:29   \n",
       "4             0       A060001005  A060000001           1 2020-03-24 00:17:36   \n",
       "...         ...              ...         ...         ...                 ...   \n",
       "2266581    7441       A030071005  A030000071           0 2020-06-05 06:50:21   \n",
       "2266582    7441       A040165001  A040000165           1 2020-08-21 01:06:39   \n",
       "2266583    7441       A040165002  A040000165           1 2020-08-21 01:06:50   \n",
       "2266584    7441       A040165003  A040000165           1 2020-08-21 01:07:36   \n",
       "2266585    7441       A040165004  A040000165           1 2020-08-21 01:08:49   \n",
       "\n",
       "         KnowledgeTag  \n",
       "0                7224  \n",
       "1                7225  \n",
       "2                7225  \n",
       "3                7225  \n",
       "4                7225  \n",
       "...               ...  \n",
       "2266581           438  \n",
       "2266582          8836  \n",
       "2266583          8836  \n",
       "2266584          8836  \n",
       "2266585          8836  \n",
       "\n",
       "[2266586 rows x 6 columns]"
      ]
     },
     "execution_count": 2,
     "metadata": {},
     "output_type": "execute_result"
    }
   ],
   "source": [
    "DATA_PATH = '../data/train_data.csv'\n",
    "dtype = {\n",
    "    'userID': 'int16',\n",
    "    'answerCode': 'int8',\n",
    "    'KnowledgeTag': 'int16'\n",
    "}\n",
    "\n",
    "train_data = pd.read_csv(DATA_PATH, dtype=dtype, parse_dates=['Timestamp'])\n",
    "train_data = train_data.sort_values(by=['userID', 'Timestamp']).reset_index(drop=True)\n",
    "train_data"
   ]
  },
  {
   "cell_type": "code",
   "execution_count": 3,
   "metadata": {},
   "outputs": [
    {
     "data": {
      "text/html": [
       "<div>\n",
       "<style scoped>\n",
       "    .dataframe tbody tr th:only-of-type {\n",
       "        vertical-align: middle;\n",
       "    }\n",
       "\n",
       "    .dataframe tbody tr th {\n",
       "        vertical-align: top;\n",
       "    }\n",
       "\n",
       "    .dataframe thead th {\n",
       "        text-align: right;\n",
       "    }\n",
       "</style>\n",
       "<table border=\"1\" class=\"dataframe\">\n",
       "  <thead>\n",
       "    <tr style=\"text-align: right;\">\n",
       "      <th></th>\n",
       "      <th>userID</th>\n",
       "      <th>assessmentItemID</th>\n",
       "      <th>testId</th>\n",
       "      <th>answerCode</th>\n",
       "      <th>Timestamp</th>\n",
       "      <th>KnowledgeTag</th>\n",
       "    </tr>\n",
       "  </thead>\n",
       "  <tbody>\n",
       "    <tr>\n",
       "      <th>0</th>\n",
       "      <td>3</td>\n",
       "      <td>A050023001</td>\n",
       "      <td>A050000023</td>\n",
       "      <td>1</td>\n",
       "      <td>2020-01-09 10:56:31</td>\n",
       "      <td>2626</td>\n",
       "    </tr>\n",
       "    <tr>\n",
       "      <th>1</th>\n",
       "      <td>3</td>\n",
       "      <td>A050023002</td>\n",
       "      <td>A050000023</td>\n",
       "      <td>1</td>\n",
       "      <td>2020-01-09 10:56:57</td>\n",
       "      <td>2626</td>\n",
       "    </tr>\n",
       "    <tr>\n",
       "      <th>2</th>\n",
       "      <td>3</td>\n",
       "      <td>A050023003</td>\n",
       "      <td>A050000023</td>\n",
       "      <td>0</td>\n",
       "      <td>2020-01-09 10:58:31</td>\n",
       "      <td>2625</td>\n",
       "    </tr>\n",
       "    <tr>\n",
       "      <th>3</th>\n",
       "      <td>3</td>\n",
       "      <td>A050023004</td>\n",
       "      <td>A050000023</td>\n",
       "      <td>0</td>\n",
       "      <td>2020-01-09 10:58:36</td>\n",
       "      <td>2625</td>\n",
       "    </tr>\n",
       "    <tr>\n",
       "      <th>4</th>\n",
       "      <td>3</td>\n",
       "      <td>A050023006</td>\n",
       "      <td>A050000023</td>\n",
       "      <td>0</td>\n",
       "      <td>2020-01-09 10:58:43</td>\n",
       "      <td>2623</td>\n",
       "    </tr>\n",
       "    <tr>\n",
       "      <th>...</th>\n",
       "      <td>...</td>\n",
       "      <td>...</td>\n",
       "      <td>...</td>\n",
       "      <td>...</td>\n",
       "      <td>...</td>\n",
       "      <td>...</td>\n",
       "    </tr>\n",
       "    <tr>\n",
       "      <th>260109</th>\n",
       "      <td>7439</td>\n",
       "      <td>A040130001</td>\n",
       "      <td>A040000130</td>\n",
       "      <td>0</td>\n",
       "      <td>2020-10-14 23:07:23</td>\n",
       "      <td>8832</td>\n",
       "    </tr>\n",
       "    <tr>\n",
       "      <th>260110</th>\n",
       "      <td>7439</td>\n",
       "      <td>A040130002</td>\n",
       "      <td>A040000130</td>\n",
       "      <td>1</td>\n",
       "      <td>2020-10-14 23:07:41</td>\n",
       "      <td>8832</td>\n",
       "    </tr>\n",
       "    <tr>\n",
       "      <th>260111</th>\n",
       "      <td>7439</td>\n",
       "      <td>A040130003</td>\n",
       "      <td>A040000130</td>\n",
       "      <td>1</td>\n",
       "      <td>2020-10-14 23:08:02</td>\n",
       "      <td>8244</td>\n",
       "    </tr>\n",
       "    <tr>\n",
       "      <th>260112</th>\n",
       "      <td>7439</td>\n",
       "      <td>A040130004</td>\n",
       "      <td>A040000130</td>\n",
       "      <td>1</td>\n",
       "      <td>2020-10-14 23:09:31</td>\n",
       "      <td>8244</td>\n",
       "    </tr>\n",
       "    <tr>\n",
       "      <th>260113</th>\n",
       "      <td>7439</td>\n",
       "      <td>A040130005</td>\n",
       "      <td>A040000130</td>\n",
       "      <td>-1</td>\n",
       "      <td>2020-10-14 23:10:03</td>\n",
       "      <td>8832</td>\n",
       "    </tr>\n",
       "  </tbody>\n",
       "</table>\n",
       "<p>260114 rows × 6 columns</p>\n",
       "</div>"
      ],
      "text/plain": [
       "        userID assessmentItemID      testId  answerCode           Timestamp  \\\n",
       "0            3       A050023001  A050000023           1 2020-01-09 10:56:31   \n",
       "1            3       A050023002  A050000023           1 2020-01-09 10:56:57   \n",
       "2            3       A050023003  A050000023           0 2020-01-09 10:58:31   \n",
       "3            3       A050023004  A050000023           0 2020-01-09 10:58:36   \n",
       "4            3       A050023006  A050000023           0 2020-01-09 10:58:43   \n",
       "...        ...              ...         ...         ...                 ...   \n",
       "260109    7439       A040130001  A040000130           0 2020-10-14 23:07:23   \n",
       "260110    7439       A040130002  A040000130           1 2020-10-14 23:07:41   \n",
       "260111    7439       A040130003  A040000130           1 2020-10-14 23:08:02   \n",
       "260112    7439       A040130004  A040000130           1 2020-10-14 23:09:31   \n",
       "260113    7439       A040130005  A040000130          -1 2020-10-14 23:10:03   \n",
       "\n",
       "        KnowledgeTag  \n",
       "0               2626  \n",
       "1               2626  \n",
       "2               2625  \n",
       "3               2625  \n",
       "4               2623  \n",
       "...              ...  \n",
       "260109          8832  \n",
       "260110          8832  \n",
       "260111          8244  \n",
       "260112          8244  \n",
       "260113          8832  \n",
       "\n",
       "[260114 rows x 6 columns]"
      ]
     },
     "execution_count": 3,
     "metadata": {},
     "output_type": "execute_result"
    }
   ],
   "source": [
    "DATA_PATH = '../data/test_data.csv'\n",
    "dtype = {\n",
    "    'userID': 'int16',\n",
    "    'answerCode': 'int8',\n",
    "    'KnowledgeTag': 'int16'\n",
    "}\n",
    "\n",
    "test_data = pd.read_csv(DATA_PATH, dtype=dtype, parse_dates=['Timestamp'])\n",
    "test_data = test_data.sort_values(by=['userID', 'Timestamp']).reset_index(drop=True)\n",
    "test_data"
   ]
  },
  {
   "cell_type": "markdown",
   "metadata": {},
   "source": [
    "### 시퀀스 개수"
   ]
  },
  {
   "cell_type": "code",
   "execution_count": 4,
   "metadata": {},
   "outputs": [
    {
     "data": {
      "text/plain": [
       "365164"
      ]
     },
     "execution_count": 4,
     "metadata": {},
     "output_type": "execute_result"
    }
   ],
   "source": [
    "len(train_data.groupby(['userID','testId']))"
   ]
  },
  {
   "cell_type": "code",
   "execution_count": 5,
   "metadata": {},
   "outputs": [
    {
     "data": {
      "text/plain": [
       "42025"
      ]
     },
     "execution_count": 5,
     "metadata": {},
     "output_type": "execute_result"
    }
   ],
   "source": [
    "len(test_data.groupby(['userID','testId']))"
   ]
  },
  {
   "cell_type": "markdown",
   "metadata": {},
   "source": [
    "### train_data와 test_data에서 겹치는 userID & testId"
   ]
  },
  {
   "cell_type": "code",
   "execution_count": 6,
   "metadata": {},
   "outputs": [
    {
     "data": {
      "text/plain": [
       "0"
      ]
     },
     "execution_count": 6,
     "metadata": {},
     "output_type": "execute_result"
    }
   ],
   "source": [
    "users_train = set(list(train_data['userID'].unique()))\n",
    "users_test = set(list(test_data['userID'].unique()))\n",
    "len(users_train & users_test)"
   ]
  },
  {
   "cell_type": "code",
   "execution_count": 7,
   "metadata": {},
   "outputs": [
    {
     "data": {
      "text/plain": [
       "(1537, 1537)"
      ]
     },
     "execution_count": 7,
     "metadata": {},
     "output_type": "execute_result"
    }
   ],
   "source": [
    "tests_train = set(list(train_data['testId'].unique()))\n",
    "tests_test = set(list(test_data['testId'].unique()))\n",
    "len(tests_train | tests_test), len(tests_train & tests_test)"
   ]
  },
  {
   "cell_type": "markdown",
   "metadata": {},
   "source": [
    "### testID 분리, Time 생성"
   ]
  },
  {
   "cell_type": "code",
   "execution_count": 8,
   "metadata": {},
   "outputs": [],
   "source": [
    "df = train_data.copy()"
   ]
  },
  {
   "cell_type": "code",
   "execution_count": 9,
   "metadata": {},
   "outputs": [
    {
     "data": {
      "text/html": [
       "<div>\n",
       "<style scoped>\n",
       "    .dataframe tbody tr th:only-of-type {\n",
       "        vertical-align: middle;\n",
       "    }\n",
       "\n",
       "    .dataframe tbody tr th {\n",
       "        vertical-align: top;\n",
       "    }\n",
       "\n",
       "    .dataframe thead th {\n",
       "        text-align: right;\n",
       "    }\n",
       "</style>\n",
       "<table border=\"1\" class=\"dataframe\">\n",
       "  <thead>\n",
       "    <tr style=\"text-align: right;\">\n",
       "      <th></th>\n",
       "      <th>userID</th>\n",
       "      <th>question</th>\n",
       "      <th>testID</th>\n",
       "      <th>testID1</th>\n",
       "      <th>testID2</th>\n",
       "      <th>testNum</th>\n",
       "      <th>KnowledgeTag</th>\n",
       "      <th>Timestamp</th>\n",
       "      <th>Time</th>\n",
       "      <th>answerCode</th>\n",
       "    </tr>\n",
       "  </thead>\n",
       "  <tbody>\n",
       "    <tr>\n",
       "      <th>0</th>\n",
       "      <td>0</td>\n",
       "      <td>060001001</td>\n",
       "      <td>060001</td>\n",
       "      <td>060</td>\n",
       "      <td>001</td>\n",
       "      <td>001</td>\n",
       "      <td>7224</td>\n",
       "      <td>2020-03-24 00:17:11</td>\n",
       "      <td>3</td>\n",
       "      <td>1</td>\n",
       "    </tr>\n",
       "    <tr>\n",
       "      <th>1</th>\n",
       "      <td>0</td>\n",
       "      <td>060001002</td>\n",
       "      <td>060001</td>\n",
       "      <td>060</td>\n",
       "      <td>001</td>\n",
       "      <td>002</td>\n",
       "      <td>7225</td>\n",
       "      <td>2020-03-24 00:17:14</td>\n",
       "      <td>8</td>\n",
       "      <td>1</td>\n",
       "    </tr>\n",
       "    <tr>\n",
       "      <th>2</th>\n",
       "      <td>0</td>\n",
       "      <td>060001003</td>\n",
       "      <td>060001</td>\n",
       "      <td>060</td>\n",
       "      <td>001</td>\n",
       "      <td>003</td>\n",
       "      <td>7225</td>\n",
       "      <td>2020-03-24 00:17:22</td>\n",
       "      <td>7</td>\n",
       "      <td>1</td>\n",
       "    </tr>\n",
       "    <tr>\n",
       "      <th>3</th>\n",
       "      <td>0</td>\n",
       "      <td>060001004</td>\n",
       "      <td>060001</td>\n",
       "      <td>060</td>\n",
       "      <td>001</td>\n",
       "      <td>004</td>\n",
       "      <td>7225</td>\n",
       "      <td>2020-03-24 00:17:29</td>\n",
       "      <td>7</td>\n",
       "      <td>1</td>\n",
       "    </tr>\n",
       "    <tr>\n",
       "      <th>4</th>\n",
       "      <td>0</td>\n",
       "      <td>060001005</td>\n",
       "      <td>060001</td>\n",
       "      <td>060</td>\n",
       "      <td>001</td>\n",
       "      <td>005</td>\n",
       "      <td>7225</td>\n",
       "      <td>2020-03-24 00:17:36</td>\n",
       "      <td>11</td>\n",
       "      <td>1</td>\n",
       "    </tr>\n",
       "    <tr>\n",
       "      <th>...</th>\n",
       "      <td>...</td>\n",
       "      <td>...</td>\n",
       "      <td>...</td>\n",
       "      <td>...</td>\n",
       "      <td>...</td>\n",
       "      <td>...</td>\n",
       "      <td>...</td>\n",
       "      <td>...</td>\n",
       "      <td>...</td>\n",
       "      <td>...</td>\n",
       "    </tr>\n",
       "    <tr>\n",
       "      <th>2266581</th>\n",
       "      <td>7441</td>\n",
       "      <td>030071005</td>\n",
       "      <td>030071</td>\n",
       "      <td>030</td>\n",
       "      <td>071</td>\n",
       "      <td>005</td>\n",
       "      <td>438</td>\n",
       "      <td>2020-06-05 06:50:21</td>\n",
       "      <td>24</td>\n",
       "      <td>0</td>\n",
       "    </tr>\n",
       "    <tr>\n",
       "      <th>2266582</th>\n",
       "      <td>7441</td>\n",
       "      <td>040165001</td>\n",
       "      <td>040165</td>\n",
       "      <td>040</td>\n",
       "      <td>165</td>\n",
       "      <td>001</td>\n",
       "      <td>8836</td>\n",
       "      <td>2020-08-21 01:06:39</td>\n",
       "      <td>11</td>\n",
       "      <td>1</td>\n",
       "    </tr>\n",
       "    <tr>\n",
       "      <th>2266583</th>\n",
       "      <td>7441</td>\n",
       "      <td>040165002</td>\n",
       "      <td>040165</td>\n",
       "      <td>040</td>\n",
       "      <td>165</td>\n",
       "      <td>002</td>\n",
       "      <td>8836</td>\n",
       "      <td>2020-08-21 01:06:50</td>\n",
       "      <td>46</td>\n",
       "      <td>1</td>\n",
       "    </tr>\n",
       "    <tr>\n",
       "      <th>2266584</th>\n",
       "      <td>7441</td>\n",
       "      <td>040165003</td>\n",
       "      <td>040165</td>\n",
       "      <td>040</td>\n",
       "      <td>165</td>\n",
       "      <td>003</td>\n",
       "      <td>8836</td>\n",
       "      <td>2020-08-21 01:07:36</td>\n",
       "      <td>73</td>\n",
       "      <td>1</td>\n",
       "    </tr>\n",
       "    <tr>\n",
       "      <th>2266585</th>\n",
       "      <td>7441</td>\n",
       "      <td>040165004</td>\n",
       "      <td>040165</td>\n",
       "      <td>040</td>\n",
       "      <td>165</td>\n",
       "      <td>004</td>\n",
       "      <td>8836</td>\n",
       "      <td>2020-08-21 01:08:49</td>\n",
       "      <td>73</td>\n",
       "      <td>1</td>\n",
       "    </tr>\n",
       "  </tbody>\n",
       "</table>\n",
       "<p>2266586 rows × 10 columns</p>\n",
       "</div>"
      ],
      "text/plain": [
       "         userID   question  testID testID1 testID2 testNum KnowledgeTag  \\\n",
       "0             0  060001001  060001     060     001     001         7224   \n",
       "1             0  060001002  060001     060     001     002         7225   \n",
       "2             0  060001003  060001     060     001     003         7225   \n",
       "3             0  060001004  060001     060     001     004         7225   \n",
       "4             0  060001005  060001     060     001     005         7225   \n",
       "...         ...        ...     ...     ...     ...     ...          ...   \n",
       "2266581    7441  030071005  030071     030     071     005          438   \n",
       "2266582    7441  040165001  040165     040     165     001         8836   \n",
       "2266583    7441  040165002  040165     040     165     002         8836   \n",
       "2266584    7441  040165003  040165     040     165     003         8836   \n",
       "2266585    7441  040165004  040165     040     165     004         8836   \n",
       "\n",
       "                  Timestamp  Time  answerCode  \n",
       "0       2020-03-24 00:17:11     3           1  \n",
       "1       2020-03-24 00:17:14     8           1  \n",
       "2       2020-03-24 00:17:22     7           1  \n",
       "3       2020-03-24 00:17:29     7           1  \n",
       "4       2020-03-24 00:17:36    11           1  \n",
       "...                     ...   ...         ...  \n",
       "2266581 2020-06-05 06:50:21    24           0  \n",
       "2266582 2020-08-21 01:06:39    11           1  \n",
       "2266583 2020-08-21 01:06:50    46           1  \n",
       "2266584 2020-08-21 01:07:36    73           1  \n",
       "2266585 2020-08-21 01:08:49    73           1  \n",
       "\n",
       "[2266586 rows x 10 columns]"
      ]
     },
     "execution_count": 9,
     "metadata": {},
     "output_type": "execute_result"
    }
   ],
   "source": [
    "df['question'] = df['assessmentItemID'].apply(lambda x: x[1:])\n",
    "df['testID'] = df['assessmentItemID'].apply(lambda x: x[1:7])\n",
    "df['testID1'] = df['assessmentItemID'].apply(lambda x: x[1:4])\n",
    "df['testID2'] = df['assessmentItemID'].apply(lambda x: x[4:7])\n",
    "df['testNum'] = df['assessmentItemID'].apply(lambda x: x[7:])\n",
    "df['KnowledgeTag'] = df['KnowledgeTag'].astype('str')\n",
    "df['Time'] = (df.groupby(['userID','testID'])['Timestamp'].shift(-1) - df['Timestamp']).apply(lambda x: x.seconds)\n",
    "df['Time'] = df['Time'].ffill().astype('int')\n",
    "df = df[['userID','question','testID','testID1','testID2','testNum','KnowledgeTag','Timestamp','Time','answerCode']]\n",
    "df"
   ]
  },
  {
   "cell_type": "markdown",
   "metadata": {},
   "source": [
    "### 데이터 정보"
   ]
  },
  {
   "cell_type": "code",
   "execution_count": 10,
   "metadata": {},
   "outputs": [
    {
     "name": "stdout",
     "output_type": "stream",
     "text": [
      "<class 'pandas.core.frame.DataFrame'>\n",
      "RangeIndex: 2266586 entries, 0 to 2266585\n",
      "Data columns (total 10 columns):\n",
      " #   Column        Dtype         \n",
      "---  ------        -----         \n",
      " 0   userID        int16         \n",
      " 1   question      object        \n",
      " 2   testID        object        \n",
      " 3   testID1       object        \n",
      " 4   testID2       object        \n",
      " 5   testNum       object        \n",
      " 6   KnowledgeTag  object        \n",
      " 7   Timestamp     datetime64[ns]\n",
      " 8   Time          int64         \n",
      " 9   answerCode    int8          \n",
      "dtypes: datetime64[ns](1), int16(1), int64(1), int8(1), object(6)\n",
      "memory usage: 144.8+ MB\n"
     ]
    }
   ],
   "source": [
    "df.info()"
   ]
  },
  {
   "cell_type": "code",
   "execution_count": 11,
   "metadata": {},
   "outputs": [
    {
     "data": {
      "text/plain": [
       "userID          0\n",
       "question        0\n",
       "testID          0\n",
       "testID1         0\n",
       "testID2         0\n",
       "testNum         0\n",
       "KnowledgeTag    0\n",
       "Timestamp       0\n",
       "Time            0\n",
       "answerCode      0\n",
       "dtype: int64"
      ]
     },
     "execution_count": 11,
     "metadata": {},
     "output_type": "execute_result"
    }
   ],
   "source": [
    "df.isnull().sum()"
   ]
  },
  {
   "cell_type": "markdown",
   "metadata": {},
   "source": [
    "## EDA"
   ]
  },
  {
   "cell_type": "markdown",
   "metadata": {},
   "source": [
    "### Features"
   ]
  },
  {
   "cell_type": "markdown",
   "metadata": {},
   "source": [
    "#### testID 별 개수 시각화"
   ]
  },
  {
   "cell_type": "code",
   "execution_count": 12,
   "metadata": {},
   "outputs": [
    {
     "data": {
      "text/plain": [
       "testID\n",
       "080128    3960\n",
       "080131    3640\n",
       "090015    3624\n",
       "090011    3616\n",
       "090009    3616\n",
       "          ... \n",
       "010168     180\n",
       "010178     176\n",
       "010181     176\n",
       "010166     176\n",
       "010179     172\n",
       "Name: count, Length: 1537, dtype: int64"
      ]
     },
     "execution_count": 12,
     "metadata": {},
     "output_type": "execute_result"
    }
   ],
   "source": [
    "df['testID'].value_counts()"
   ]
  },
  {
   "cell_type": "code",
   "execution_count": 13,
   "metadata": {},
   "outputs": [
    {
     "name": "stdout",
     "output_type": "stream",
     "text": [
      "1537\n"
     ]
    },
    {
     "data": {
      "text/plain": [
       "array(['060001', '060003', '060005', ..., '010178', '010189', '010180'],\n",
       "      dtype=object)"
      ]
     },
     "execution_count": 13,
     "metadata": {},
     "output_type": "execute_result"
    }
   ],
   "source": [
    "print(df['testID'].nunique())\n",
    "df['testID'].unique()"
   ]
  },
  {
   "cell_type": "code",
   "execution_count": 14,
   "metadata": {},
   "outputs": [
    {
     "data": {
      "image/png": "[encoded data removed]",
      "text/plain": [
       "<Figure size 3000x500 with 1 Axes>"
      ]
     },
     "metadata": {},
     "output_type": "display_data"
    }
   ],
   "source": [
    "fig, ax = plt.subplots(figsize=(30, 5))\n",
    "plt.bar(df['testID'].value_counts().index, df['testID'].value_counts())\n",
    "ax.set_title('Number of testID')\n",
    "ax.set_xlabel('testID')\n",
    "ax.set_ylabel('Count')\n",
    "plt.gca().axes.xaxis.set_ticks([])\n",
    "plt.show()"
   ]
  },
  {
   "cell_type": "markdown",
   "metadata": {},
   "source": [
    "#### testID 대분류 별 개수 시각화"
   ]
  },
  {
   "cell_type": "code",
   "execution_count": 15,
   "metadata": {},
   "outputs": [
    {
     "data": {
      "text/plain": [
       "testID1\n",
       "070    279164\n",
       "050    275773\n",
       "030    273762\n",
       "010    272082\n",
       "020    268327\n",
       "040    267323\n",
       "060    264434\n",
       "080    246336\n",
       "090    119385\n",
       "Name: count, dtype: int64"
      ]
     },
     "execution_count": 15,
     "metadata": {},
     "output_type": "execute_result"
    }
   ],
   "source": [
    "df['testID1'].value_counts()"
   ]
  },
  {
   "cell_type": "code",
   "execution_count": 16,
   "metadata": {},
   "outputs": [
    {
     "data": {
      "image/png": "[encoded data removed]",
      "text/plain": [
       "<Figure size 640x480 with 1 Axes>"
      ]
     },
     "metadata": {},
     "output_type": "display_data"
    }
   ],
   "source": [
    "fig, ax = plt.subplots()\n",
    "plt.bar(df['testID1'].value_counts().index, df['testID1'].value_counts())\n",
    "ax.set_title('Number of testID1')\n",
    "ax.set_xlabel('testID1')\n",
    "ax.set_ylabel('Count')\n",
    "plt.show()"
   ]
  },
  {
   "cell_type": "markdown",
   "metadata": {},
   "source": [
    "#### testID 소분류 별 개수 시각화"
   ]
  },
  {
   "cell_type": "code",
   "execution_count": 17,
   "metadata": {},
   "outputs": [
    {
     "data": {
      "text/plain": [
       "testID2\n",
       "017    17739\n",
       "009    17555\n",
       "011    17029\n",
       "003    16970\n",
       "007    16826\n",
       "       ...  \n",
       "180     3767\n",
       "197     2973\n",
       "194     2596\n",
       "196     1304\n",
       "198      951\n",
       "Name: count, Length: 198, dtype: int64"
      ]
     },
     "execution_count": 17,
     "metadata": {},
     "output_type": "execute_result"
    }
   ],
   "source": [
    "df['testID2'].value_counts()"
   ]
  },
  {
   "cell_type": "code",
   "execution_count": 18,
   "metadata": {},
   "outputs": [
    {
     "name": "stdout",
     "output_type": "stream",
     "text": [
      "198\n"
     ]
    },
    {
     "data": {
      "text/plain": [
       "array(['001', '003', '005', '007', '002', '009', '016', '004', '006',\n",
       "       '018', '020', '008', '010', '022', '012', '014', '024', '031',\n",
       "       '033', '035', '037', '039', '041', '043', '036', '052', '054',\n",
       "       '038', '056', '058', '060', '040', '062', '042', '070', '072',\n",
       "       '074', '044', '076', '078', '046', '048', '085', '087', '089',\n",
       "       '091', '093', '094', '095', '096', '097', '080', '099', '082',\n",
       "       '101', '084', '103', '086', '105', '088', '107', '090', '092',\n",
       "       '098', '172', '121', '100', '123', '125', '102', '174', '181',\n",
       "       '127', '129', '182', '131', '183', '119', '115', '192', '108',\n",
       "       '112', '114', '118', '120', '128', '013', '015', '017', '019',\n",
       "       '021', '049', '051', '063', '065', '073', '075', '081', '083',\n",
       "       '011', '023', '025', '026', '034', '027', '028', '029', '030',\n",
       "       '032', '050', '047', '155', '156', '068', '157', '158', '064',\n",
       "       '066', '160', '059', '161', '162', '163', '164', '165', '104',\n",
       "       '184', '106', '185', '186', '132', '133', '134', '195', '135',\n",
       "       '196', '152', '153', '154', '197', '198', '159', '045', '109',\n",
       "       '111', '113', '117', '053', '136', '138', '140', '142', '144',\n",
       "       '146', '148', '150', '069', '071', '061', '137', '139', '141',\n",
       "       '149', '151', '055', '057', '067', '077', '079', '124', '126',\n",
       "       '110', '130', '122', '168', '176', '178', '180', '187', '189',\n",
       "       '191', '193', '171', '169', '173', '175', '177', '116', '166',\n",
       "       '143', '170', '145', '167', '147', '190', '179', '188', '194'],\n",
       "      dtype=object)"
      ]
     },
     "execution_count": 18,
     "metadata": {},
     "output_type": "execute_result"
    }
   ],
   "source": [
    "print(df['testID2'].nunique())\n",
    "df['testID2'].unique()"
   ]
  },
  {
   "cell_type": "code",
   "execution_count": 19,
   "metadata": {},
   "outputs": [
    {
     "data": {
      "image/png": "[encoded data removed]",
      "text/plain": [
       "<Figure size 3000x500 with 1 Axes>"
      ]
     },
     "metadata": {},
     "output_type": "display_data"
    }
   ],
   "source": [
    "fig, ax = plt.subplots(figsize=(30, 5))\n",
    "plt.bar(df['testID2'].value_counts().index, df['testID2'].value_counts())\n",
    "ax.set_title('Number of testID2')\n",
    "ax.set_xlabel('testID2')\n",
    "ax.set_ylabel('Count')\n",
    "plt.gca().axes.xaxis.set_ticks([])\n",
    "plt.show()"
   ]
  },
  {
   "cell_type": "markdown",
   "metadata": {},
   "source": [
    "#### testID 개수 vs 대분류/소분류 조합 개수"
   ]
  },
  {
   "cell_type": "code",
   "execution_count": 20,
   "metadata": {},
   "outputs": [
    {
     "name": "stdout",
     "output_type": "stream",
     "text": [
      "1537\n",
      "1782\n"
     ]
    }
   ],
   "source": [
    "print(df['testID'].nunique())\n",
    "print(len(df['testID1'].unique())*len(df['testID2'].unique()))"
   ]
  },
  {
   "cell_type": "markdown",
   "metadata": {},
   "source": [
    "#### testNum 별 개수 시각화"
   ]
  },
  {
   "cell_type": "code",
   "execution_count": 21,
   "metadata": {},
   "outputs": [
    {
     "data": {
      "text/plain": [
       "testNum\n",
       "001    371755\n",
       "003    371640\n",
       "002    370972\n",
       "004    369705\n",
       "005    360607\n",
       "006    197772\n",
       "007    127121\n",
       "008     67150\n",
       "009     18417\n",
       "010      5342\n",
       "011      3352\n",
       "012      2484\n",
       "013       269\n",
       "Name: count, dtype: int64"
      ]
     },
     "execution_count": 21,
     "metadata": {},
     "output_type": "execute_result"
    }
   ],
   "source": [
    "df['testNum'].value_counts()"
   ]
  },
  {
   "cell_type": "code",
   "execution_count": 22,
   "metadata": {},
   "outputs": [
    {
     "data": {
      "image/png": "[encoded data removed]",
      "text/plain": [
       "<Figure size 640x480 with 1 Axes>"
      ]
     },
     "metadata": {},
     "output_type": "display_data"
    }
   ],
   "source": [
    "fig, ax = plt.subplots()\n",
    "plt.bar(df['testNum'].value_counts().index, df['testNum'].value_counts())\n",
    "ax.set_title('Number of testNum')\n",
    "ax.set_xlabel('testNum')\n",
    "ax.set_ylabel('Count')\n",
    "plt.show()"
   ]
  },
  {
   "cell_type": "markdown",
   "metadata": {},
   "source": [
    "#### KnowledgeTag 별 개수 시각화"
   ]
  },
  {
   "cell_type": "code",
   "execution_count": 23,
   "metadata": {},
   "outputs": [
    {
     "data": {
      "text/plain": [
       "KnowledgeTag\n",
       "7597    12892\n",
       "7600    10734\n",
       "2010    10176\n",
       "7621     9709\n",
       "8127     9006\n",
       "        ...  \n",
       "5142       47\n",
       "2871       46\n",
       "4978       46\n",
       "7125       45\n",
       "2613       44\n",
       "Name: count, Length: 912, dtype: int64"
      ]
     },
     "execution_count": 23,
     "metadata": {},
     "output_type": "execute_result"
    }
   ],
   "source": [
    "df['KnowledgeTag'].value_counts()"
   ]
  },
  {
   "cell_type": "code",
   "execution_count": 24,
   "metadata": {},
   "outputs": [
    {
     "name": "stdout",
     "output_type": "stream",
     "text": [
      "912\n"
     ]
    }
   ],
   "source": [
    "print(df['KnowledgeTag'].nunique())\n",
    "# df['KnowledgeTag'].unique()"
   ]
  },
  {
   "cell_type": "code",
   "execution_count": 25,
   "metadata": {},
   "outputs": [
    {
     "data": {
      "image/png": "[encoded data removed]",
      "text/plain": [
       "<Figure size 3000x500 with 1 Axes>"
      ]
     },
     "metadata": {},
     "output_type": "display_data"
    }
   ],
   "source": [
    "fig, ax = plt.subplots(figsize=(30, 5))\n",
    "plt.bar(df['KnowledgeTag'].value_counts().index, df['KnowledgeTag'].value_counts())\n",
    "ax.set_title('Number of KnowledgeTag')\n",
    "ax.set_xlabel('KnowledgeTag')\n",
    "ax.set_ylabel('Count')\n",
    "plt.gca().axes.xaxis.set_ticks([])\n",
    "plt.show()"
   ]
  },
  {
   "cell_type": "markdown",
   "metadata": {},
   "source": [
    "### testID 별 정답률"
   ]
  },
  {
   "cell_type": "code",
   "execution_count": 26,
   "metadata": {},
   "outputs": [],
   "source": [
    "def percentile(s):\n",
    "    return np.sum(s) / len(s)"
   ]
  },
  {
   "cell_type": "code",
   "execution_count": 27,
   "metadata": {},
   "outputs": [
    {
     "data": {
      "text/html": [
       "<div>\n",
       "<style scoped>\n",
       "    .dataframe tbody tr th:only-of-type {\n",
       "        vertical-align: middle;\n",
       "    }\n",
       "\n",
       "    .dataframe tbody tr th {\n",
       "        vertical-align: top;\n",
       "    }\n",
       "\n",
       "    .dataframe thead th {\n",
       "        text-align: right;\n",
       "    }\n",
       "</style>\n",
       "<table border=\"1\" class=\"dataframe\">\n",
       "  <thead>\n",
       "    <tr style=\"text-align: right;\">\n",
       "      <th></th>\n",
       "      <th>userID</th>\n",
       "      <th>answerCode</th>\n",
       "    </tr>\n",
       "  </thead>\n",
       "  <tbody>\n",
       "    <tr>\n",
       "      <th>count</th>\n",
       "      <td>1537.000000</td>\n",
       "      <td>1537.000000</td>\n",
       "    </tr>\n",
       "    <tr>\n",
       "      <th>mean</th>\n",
       "      <td>1474.681848</td>\n",
       "      <td>0.667982</td>\n",
       "    </tr>\n",
       "    <tr>\n",
       "      <th>std</th>\n",
       "      <td>533.526783</td>\n",
       "      <td>0.138903</td>\n",
       "    </tr>\n",
       "    <tr>\n",
       "      <th>min</th>\n",
       "      <td>172.000000</td>\n",
       "      <td>0.327186</td>\n",
       "    </tr>\n",
       "    <tr>\n",
       "      <th>25%</th>\n",
       "      <td>1320.000000</td>\n",
       "      <td>0.561819</td>\n",
       "    </tr>\n",
       "    <tr>\n",
       "      <th>50%</th>\n",
       "      <td>1400.000000</td>\n",
       "      <td>0.680519</td>\n",
       "    </tr>\n",
       "    <tr>\n",
       "      <th>75%</th>\n",
       "      <td>1602.000000</td>\n",
       "      <td>0.778439</td>\n",
       "    </tr>\n",
       "    <tr>\n",
       "      <th>max</th>\n",
       "      <td>3960.000000</td>\n",
       "      <td>0.955474</td>\n",
       "    </tr>\n",
       "  </tbody>\n",
       "</table>\n",
       "</div>"
      ],
      "text/plain": [
       "            userID   answerCode\n",
       "count  1537.000000  1537.000000\n",
       "mean   1474.681848     0.667982\n",
       "std     533.526783     0.138903\n",
       "min     172.000000     0.327186\n",
       "25%    1320.000000     0.561819\n",
       "50%    1400.000000     0.680519\n",
       "75%    1602.000000     0.778439\n",
       "max    3960.000000     0.955474"
      ]
     },
     "execution_count": 27,
     "metadata": {},
     "output_type": "execute_result"
    }
   ],
   "source": [
    "testID_groupby = df.groupby('testID').agg({\n",
    "    'userID': 'count',\n",
    "    'answerCode': percentile\n",
    "})\n",
    "testID_groupby.describe()"
   ]
  },
  {
   "cell_type": "code",
   "execution_count": 28,
   "metadata": {},
   "outputs": [
    {
     "data": {
      "text/html": [
       "<div>\n",
       "<style scoped>\n",
       "    .dataframe tbody tr th:only-of-type {\n",
       "        vertical-align: middle;\n",
       "    }\n",
       "\n",
       "    .dataframe tbody tr th {\n",
       "        vertical-align: top;\n",
       "    }\n",
       "\n",
       "    .dataframe thead th {\n",
       "        text-align: right;\n",
       "    }\n",
       "</style>\n",
       "<table border=\"1\" class=\"dataframe\">\n",
       "  <thead>\n",
       "    <tr style=\"text-align: right;\">\n",
       "      <th></th>\n",
       "      <th>userID</th>\n",
       "      <th>answerCode</th>\n",
       "    </tr>\n",
       "    <tr>\n",
       "      <th>testID</th>\n",
       "      <th></th>\n",
       "      <th></th>\n",
       "    </tr>\n",
       "  </thead>\n",
       "  <tbody>\n",
       "    <tr>\n",
       "      <th>010001</th>\n",
       "      <td>1585</td>\n",
       "      <td>0.926183</td>\n",
       "    </tr>\n",
       "    <tr>\n",
       "      <th>010002</th>\n",
       "      <td>1550</td>\n",
       "      <td>0.931613</td>\n",
       "    </tr>\n",
       "    <tr>\n",
       "      <th>010003</th>\n",
       "      <td>1615</td>\n",
       "      <td>0.846440</td>\n",
       "    </tr>\n",
       "    <tr>\n",
       "      <th>010004</th>\n",
       "      <td>1540</td>\n",
       "      <td>0.883117</td>\n",
       "    </tr>\n",
       "    <tr>\n",
       "      <th>010005</th>\n",
       "      <td>1595</td>\n",
       "      <td>0.855172</td>\n",
       "    </tr>\n",
       "    <tr>\n",
       "      <th>...</th>\n",
       "      <td>...</td>\n",
       "      <td>...</td>\n",
       "    </tr>\n",
       "    <tr>\n",
       "      <th>090070</th>\n",
       "      <td>344</td>\n",
       "      <td>0.418605</td>\n",
       "    </tr>\n",
       "    <tr>\n",
       "      <th>090071</th>\n",
       "      <td>360</td>\n",
       "      <td>0.336111</td>\n",
       "    </tr>\n",
       "    <tr>\n",
       "      <th>090072</th>\n",
       "      <td>270</td>\n",
       "      <td>0.418519</td>\n",
       "    </tr>\n",
       "    <tr>\n",
       "      <th>090073</th>\n",
       "      <td>270</td>\n",
       "      <td>0.529630</td>\n",
       "    </tr>\n",
       "    <tr>\n",
       "      <th>090074</th>\n",
       "      <td>270</td>\n",
       "      <td>0.425926</td>\n",
       "    </tr>\n",
       "  </tbody>\n",
       "</table>\n",
       "<p>1537 rows × 2 columns</p>\n",
       "</div>"
      ],
      "text/plain": [
       "        userID  answerCode\n",
       "testID                    \n",
       "010001    1585    0.926183\n",
       "010002    1550    0.931613\n",
       "010003    1615    0.846440\n",
       "010004    1540    0.883117\n",
       "010005    1595    0.855172\n",
       "...        ...         ...\n",
       "090070     344    0.418605\n",
       "090071     360    0.336111\n",
       "090072     270    0.418519\n",
       "090073     270    0.529630\n",
       "090074     270    0.425926\n",
       "\n",
       "[1537 rows x 2 columns]"
      ]
     },
     "execution_count": 28,
     "metadata": {},
     "output_type": "execute_result"
    }
   ],
   "source": [
    "testID_groupby"
   ]
  },
  {
   "cell_type": "code",
   "execution_count": 29,
   "metadata": {},
   "outputs": [
    {
     "data": {
      "image/png": "[encoded data removed]",
      "text/plain": [
       "<Figure size 3000x500 with 1 Axes>"
      ]
     },
     "metadata": {},
     "output_type": "display_data"
    }
   ],
   "source": [
    "fig, ax = plt.subplots(figsize=(30, 5))\n",
    "plt.bar(testID_groupby.index, testID_groupby['answerCode'])\n",
    "ax.set_title('Answer Rate by testID')\n",
    "ax.set_xlabel('testID')\n",
    "ax.set_ylabel('Anser Rate')\n",
    "ax.axhline(testID_groupby['answerCode'].mean(), color='red')\n",
    "plt.gca().axes.xaxis.set_ticks([])\n",
    "plt.show()"
   ]
  },
  {
   "cell_type": "code",
   "execution_count": 30,
   "metadata": {},
   "outputs": [
    {
     "data": {
      "image/png": "[encoded data removed]",
      "text/plain": [
       "<Figure size 3000x500 with 1 Axes>"
      ]
     },
     "metadata": {},
     "output_type": "display_data"
    }
   ],
   "source": [
    "fig, ax = plt.subplots(figsize=(30, 5))\n",
    "plt.bar(testID_groupby.index[:30], testID_groupby['answerCode'][:30])\n",
    "ax.set_title('Answer Rate by testID')\n",
    "ax.set_xlabel('testID')\n",
    "ax.set_ylabel('Anser Rate')\n",
    "ax.axhline(testID_groupby['answerCode'].mean(), color='red')\n",
    "plt.show()"
   ]
  },
  {
   "cell_type": "markdown",
   "metadata": {},
   "source": [
    "### testID 대분류 별 정답률"
   ]
  },
  {
   "cell_type": "code",
   "execution_count": 31,
   "metadata": {},
   "outputs": [
    {
     "data": {
      "text/html": [
       "<div>\n",
       "<style scoped>\n",
       "    .dataframe tbody tr th:only-of-type {\n",
       "        vertical-align: middle;\n",
       "    }\n",
       "\n",
       "    .dataframe tbody tr th {\n",
       "        vertical-align: top;\n",
       "    }\n",
       "\n",
       "    .dataframe thead th {\n",
       "        text-align: right;\n",
       "    }\n",
       "</style>\n",
       "<table border=\"1\" class=\"dataframe\">\n",
       "  <thead>\n",
       "    <tr style=\"text-align: right;\">\n",
       "      <th></th>\n",
       "      <th>userID</th>\n",
       "      <th>answerCode</th>\n",
       "    </tr>\n",
       "  </thead>\n",
       "  <tbody>\n",
       "    <tr>\n",
       "      <th>count</th>\n",
       "      <td>9.000000</td>\n",
       "      <td>9.000000</td>\n",
       "    </tr>\n",
       "    <tr>\n",
       "      <th>mean</th>\n",
       "      <td>251842.888889</td>\n",
       "      <td>0.640736</td>\n",
       "    </tr>\n",
       "    <tr>\n",
       "      <th>std</th>\n",
       "      <td>50564.904297</td>\n",
       "      <td>0.120048</td>\n",
       "    </tr>\n",
       "    <tr>\n",
       "      <th>min</th>\n",
       "      <td>119385.000000</td>\n",
       "      <td>0.449948</td>\n",
       "    </tr>\n",
       "    <tr>\n",
       "      <th>25%</th>\n",
       "      <td>264434.000000</td>\n",
       "      <td>0.521876</td>\n",
       "    </tr>\n",
       "    <tr>\n",
       "      <th>50%</th>\n",
       "      <td>268327.000000</td>\n",
       "      <td>0.684056</td>\n",
       "    </tr>\n",
       "    <tr>\n",
       "      <th>75%</th>\n",
       "      <td>273762.000000</td>\n",
       "      <td>0.709232</td>\n",
       "    </tr>\n",
       "    <tr>\n",
       "      <th>max</th>\n",
       "      <td>279164.000000</td>\n",
       "      <td>0.800876</td>\n",
       "    </tr>\n",
       "  </tbody>\n",
       "</table>\n",
       "</div>"
      ],
      "text/plain": [
       "              userID  answerCode\n",
       "count       9.000000    9.000000\n",
       "mean   251842.888889    0.640736\n",
       "std     50564.904297    0.120048\n",
       "min    119385.000000    0.449948\n",
       "25%    264434.000000    0.521876\n",
       "50%    268327.000000    0.684056\n",
       "75%    273762.000000    0.709232\n",
       "max    279164.000000    0.800876"
      ]
     },
     "execution_count": 31,
     "metadata": {},
     "output_type": "execute_result"
    }
   ],
   "source": [
    "testID1_groupby = df.groupby('testID1').agg({\n",
    "    'userID': 'count',\n",
    "    'answerCode': percentile\n",
    "})\n",
    "testID1_groupby.describe()"
   ]
  },
  {
   "cell_type": "code",
   "execution_count": 32,
   "metadata": {},
   "outputs": [
    {
     "data": {
      "text/html": [
       "<div>\n",
       "<style scoped>\n",
       "    .dataframe tbody tr th:only-of-type {\n",
       "        vertical-align: middle;\n",
       "    }\n",
       "\n",
       "    .dataframe tbody tr th {\n",
       "        vertical-align: top;\n",
       "    }\n",
       "\n",
       "    .dataframe thead th {\n",
       "        text-align: right;\n",
       "    }\n",
       "</style>\n",
       "<table border=\"1\" class=\"dataframe\">\n",
       "  <thead>\n",
       "    <tr style=\"text-align: right;\">\n",
       "      <th></th>\n",
       "      <th>userID</th>\n",
       "      <th>answerCode</th>\n",
       "    </tr>\n",
       "    <tr>\n",
       "      <th>testID1</th>\n",
       "      <th></th>\n",
       "      <th></th>\n",
       "    </tr>\n",
       "  </thead>\n",
       "  <tbody>\n",
       "    <tr>\n",
       "      <th>010</th>\n",
       "      <td>272082</td>\n",
       "      <td>0.800876</td>\n",
       "    </tr>\n",
       "    <tr>\n",
       "      <th>020</th>\n",
       "      <td>268327</td>\n",
       "      <td>0.737593</td>\n",
       "    </tr>\n",
       "    <tr>\n",
       "      <th>030</th>\n",
       "      <td>273762</td>\n",
       "      <td>0.702238</td>\n",
       "    </tr>\n",
       "    <tr>\n",
       "      <th>040</th>\n",
       "      <td>267323</td>\n",
       "      <td>0.684056</td>\n",
       "    </tr>\n",
       "    <tr>\n",
       "      <th>050</th>\n",
       "      <td>275773</td>\n",
       "      <td>0.658208</td>\n",
       "    </tr>\n",
       "    <tr>\n",
       "      <th>060</th>\n",
       "      <td>264434</td>\n",
       "      <td>0.709232</td>\n",
       "    </tr>\n",
       "    <tr>\n",
       "      <th>070</th>\n",
       "      <td>279164</td>\n",
       "      <td>0.521876</td>\n",
       "    </tr>\n",
       "    <tr>\n",
       "      <th>080</th>\n",
       "      <td>246336</td>\n",
       "      <td>0.502598</td>\n",
       "    </tr>\n",
       "    <tr>\n",
       "      <th>090</th>\n",
       "      <td>119385</td>\n",
       "      <td>0.449948</td>\n",
       "    </tr>\n",
       "  </tbody>\n",
       "</table>\n",
       "</div>"
      ],
      "text/plain": [
       "         userID  answerCode\n",
       "testID1                    \n",
       "010      272082    0.800876\n",
       "020      268327    0.737593\n",
       "030      273762    0.702238\n",
       "040      267323    0.684056\n",
       "050      275773    0.658208\n",
       "060      264434    0.709232\n",
       "070      279164    0.521876\n",
       "080      246336    0.502598\n",
       "090      119385    0.449948"
      ]
     },
     "execution_count": 32,
     "metadata": {},
     "output_type": "execute_result"
    }
   ],
   "source": [
    "testID1_groupby"
   ]
  },
  {
   "cell_type": "code",
   "execution_count": 33,
   "metadata": {},
   "outputs": [
    {
     "data": {
      "image/png": "[encoded data removed]",
      "text/plain": [
       "<Figure size 640x480 with 1 Axes>"
      ]
     },
     "metadata": {},
     "output_type": "display_data"
    }
   ],
   "source": [
    "fig, ax = plt.subplots()\n",
    "plt.bar(testID1_groupby.index, testID1_groupby['answerCode'])\n",
    "ax.set_title('Answer Rate by testID1')\n",
    "ax.set_xlabel('testID1')\n",
    "ax.set_ylabel('Anser Rate')\n",
    "ax.axhline(testID1_groupby['answerCode'].mean(), color='red')\n",
    "plt.show()"
   ]
  },
  {
   "cell_type": "markdown",
   "metadata": {},
   "source": [
    "### testID 소분류 별 정답률"
   ]
  },
  {
   "cell_type": "code",
   "execution_count": 34,
   "metadata": {},
   "outputs": [
    {
     "data": {
      "text/html": [
       "<div>\n",
       "<style scoped>\n",
       "    .dataframe tbody tr th:only-of-type {\n",
       "        vertical-align: middle;\n",
       "    }\n",
       "\n",
       "    .dataframe tbody tr th {\n",
       "        vertical-align: top;\n",
       "    }\n",
       "\n",
       "    .dataframe thead th {\n",
       "        text-align: right;\n",
       "    }\n",
       "</style>\n",
       "<table border=\"1\" class=\"dataframe\">\n",
       "  <thead>\n",
       "    <tr style=\"text-align: right;\">\n",
       "      <th></th>\n",
       "      <th>userID</th>\n",
       "      <th>answerCode</th>\n",
       "    </tr>\n",
       "  </thead>\n",
       "  <tbody>\n",
       "    <tr>\n",
       "      <th>count</th>\n",
       "      <td>198.000000</td>\n",
       "      <td>198.000000</td>\n",
       "    </tr>\n",
       "    <tr>\n",
       "      <th>mean</th>\n",
       "      <td>11447.404040</td>\n",
       "      <td>0.667781</td>\n",
       "    </tr>\n",
       "    <tr>\n",
       "      <th>std</th>\n",
       "      <td>3305.994004</td>\n",
       "      <td>0.065223</td>\n",
       "    </tr>\n",
       "    <tr>\n",
       "      <th>min</th>\n",
       "      <td>951.000000</td>\n",
       "      <td>0.529107</td>\n",
       "    </tr>\n",
       "    <tr>\n",
       "      <th>25%</th>\n",
       "      <td>10069.000000</td>\n",
       "      <td>0.617677</td>\n",
       "    </tr>\n",
       "    <tr>\n",
       "      <th>50%</th>\n",
       "      <td>12179.000000</td>\n",
       "      <td>0.662560</td>\n",
       "    </tr>\n",
       "    <tr>\n",
       "      <th>75%</th>\n",
       "      <td>13691.500000</td>\n",
       "      <td>0.704941</td>\n",
       "    </tr>\n",
       "    <tr>\n",
       "      <th>max</th>\n",
       "      <td>17739.000000</td>\n",
       "      <td>0.895706</td>\n",
       "    </tr>\n",
       "  </tbody>\n",
       "</table>\n",
       "</div>"
      ],
      "text/plain": [
       "             userID  answerCode\n",
       "count    198.000000  198.000000\n",
       "mean   11447.404040    0.667781\n",
       "std     3305.994004    0.065223\n",
       "min      951.000000    0.529107\n",
       "25%    10069.000000    0.617677\n",
       "50%    12179.000000    0.662560\n",
       "75%    13691.500000    0.704941\n",
       "max    17739.000000    0.895706"
      ]
     },
     "execution_count": 34,
     "metadata": {},
     "output_type": "execute_result"
    }
   ],
   "source": [
    "testID2_groupby = df.groupby('testID2').agg({\n",
    "    'userID': 'count',\n",
    "    'answerCode': percentile\n",
    "})\n",
    "testID2_groupby.describe()"
   ]
  },
  {
   "cell_type": "code",
   "execution_count": 35,
   "metadata": {},
   "outputs": [
    {
     "data": {
      "text/html": [
       "<div>\n",
       "<style scoped>\n",
       "    .dataframe tbody tr th:only-of-type {\n",
       "        vertical-align: middle;\n",
       "    }\n",
       "\n",
       "    .dataframe tbody tr th {\n",
       "        vertical-align: top;\n",
       "    }\n",
       "\n",
       "    .dataframe thead th {\n",
       "        text-align: right;\n",
       "    }\n",
       "</style>\n",
       "<table border=\"1\" class=\"dataframe\">\n",
       "  <thead>\n",
       "    <tr style=\"text-align: right;\">\n",
       "      <th></th>\n",
       "      <th>userID</th>\n",
       "      <th>answerCode</th>\n",
       "    </tr>\n",
       "    <tr>\n",
       "      <th>testID2</th>\n",
       "      <th></th>\n",
       "      <th></th>\n",
       "    </tr>\n",
       "  </thead>\n",
       "  <tbody>\n",
       "    <tr>\n",
       "      <th>001</th>\n",
       "      <td>14911</td>\n",
       "      <td>0.710348</td>\n",
       "    </tr>\n",
       "    <tr>\n",
       "      <th>002</th>\n",
       "      <td>12390</td>\n",
       "      <td>0.774011</td>\n",
       "    </tr>\n",
       "    <tr>\n",
       "      <th>003</th>\n",
       "      <td>16970</td>\n",
       "      <td>0.626930</td>\n",
       "    </tr>\n",
       "    <tr>\n",
       "      <th>004</th>\n",
       "      <td>12332</td>\n",
       "      <td>0.678803</td>\n",
       "    </tr>\n",
       "    <tr>\n",
       "      <th>005</th>\n",
       "      <td>16325</td>\n",
       "      <td>0.617519</td>\n",
       "    </tr>\n",
       "    <tr>\n",
       "      <th>...</th>\n",
       "      <td>...</td>\n",
       "      <td>...</td>\n",
       "    </tr>\n",
       "    <tr>\n",
       "      <th>194</th>\n",
       "      <td>2596</td>\n",
       "      <td>0.694145</td>\n",
       "    </tr>\n",
       "    <tr>\n",
       "      <th>195</th>\n",
       "      <td>4417</td>\n",
       "      <td>0.835409</td>\n",
       "    </tr>\n",
       "    <tr>\n",
       "      <th>196</th>\n",
       "      <td>1304</td>\n",
       "      <td>0.895706</td>\n",
       "    </tr>\n",
       "    <tr>\n",
       "      <th>197</th>\n",
       "      <td>2973</td>\n",
       "      <td>0.757820</td>\n",
       "    </tr>\n",
       "    <tr>\n",
       "      <th>198</th>\n",
       "      <td>951</td>\n",
       "      <td>0.853838</td>\n",
       "    </tr>\n",
       "  </tbody>\n",
       "</table>\n",
       "<p>198 rows × 2 columns</p>\n",
       "</div>"
      ],
      "text/plain": [
       "         userID  answerCode\n",
       "testID2                    \n",
       "001       14911    0.710348\n",
       "002       12390    0.774011\n",
       "003       16970    0.626930\n",
       "004       12332    0.678803\n",
       "005       16325    0.617519\n",
       "...         ...         ...\n",
       "194        2596    0.694145\n",
       "195        4417    0.835409\n",
       "196        1304    0.895706\n",
       "197        2973    0.757820\n",
       "198         951    0.853838\n",
       "\n",
       "[198 rows x 2 columns]"
      ]
     },
     "execution_count": 35,
     "metadata": {},
     "output_type": "execute_result"
    }
   ],
   "source": [
    "testID2_groupby"
   ]
  },
  {
   "cell_type": "code",
   "execution_count": 36,
   "metadata": {},
   "outputs": [
    {
     "data": {
      "image/png": "[encoded data removed]",
      "text/plain": [
       "<Figure size 2000x500 with 1 Axes>"
      ]
     },
     "metadata": {},
     "output_type": "display_data"
    }
   ],
   "source": [
    "fig, ax = plt.subplots(figsize=(20, 5))\n",
    "plt.bar(testID2_groupby.index, testID2_groupby['answerCode'])\n",
    "ax.set_title('Answer Rate by testID2')\n",
    "ax.set_xlabel('testID2')\n",
    "ax.set_ylabel('Anser Rate')\n",
    "ax.axhline(testID2_groupby['answerCode'].mean(), color='red')\n",
    "plt.gca().axes.xaxis.set_ticks([])\n",
    "plt.show()"
   ]
  },
  {
   "cell_type": "markdown",
   "metadata": {},
   "source": [
    "### testNum 별 정답률"
   ]
  },
  {
   "cell_type": "code",
   "execution_count": 37,
   "metadata": {},
   "outputs": [
    {
     "data": {
      "text/html": [
       "<div>\n",
       "<style scoped>\n",
       "    .dataframe tbody tr th:only-of-type {\n",
       "        vertical-align: middle;\n",
       "    }\n",
       "\n",
       "    .dataframe tbody tr th {\n",
       "        vertical-align: top;\n",
       "    }\n",
       "\n",
       "    .dataframe thead th {\n",
       "        text-align: right;\n",
       "    }\n",
       "</style>\n",
       "<table border=\"1\" class=\"dataframe\">\n",
       "  <thead>\n",
       "    <tr style=\"text-align: right;\">\n",
       "      <th></th>\n",
       "      <th>userID</th>\n",
       "      <th>answerCode</th>\n",
       "    </tr>\n",
       "  </thead>\n",
       "  <tbody>\n",
       "    <tr>\n",
       "      <th>count</th>\n",
       "      <td>13.000000</td>\n",
       "      <td>13.000000</td>\n",
       "    </tr>\n",
       "    <tr>\n",
       "      <th>mean</th>\n",
       "      <td>174352.769231</td>\n",
       "      <td>0.539218</td>\n",
       "    </tr>\n",
       "    <tr>\n",
       "      <th>std</th>\n",
       "      <td>169715.394259</td>\n",
       "      <td>0.151571</td>\n",
       "    </tr>\n",
       "    <tr>\n",
       "      <th>min</th>\n",
       "      <td>269.000000</td>\n",
       "      <td>0.200743</td>\n",
       "    </tr>\n",
       "    <tr>\n",
       "      <th>25%</th>\n",
       "      <td>5342.000000</td>\n",
       "      <td>0.480609</td>\n",
       "    </tr>\n",
       "    <tr>\n",
       "      <th>50%</th>\n",
       "      <td>127121.000000</td>\n",
       "      <td>0.527892</td>\n",
       "    </tr>\n",
       "    <tr>\n",
       "      <th>75%</th>\n",
       "      <td>369705.000000</td>\n",
       "      <td>0.663364</td>\n",
       "    </tr>\n",
       "    <tr>\n",
       "      <th>max</th>\n",
       "      <td>371755.000000</td>\n",
       "      <td>0.749916</td>\n",
       "    </tr>\n",
       "  </tbody>\n",
       "</table>\n",
       "</div>"
      ],
      "text/plain": [
       "              userID  answerCode\n",
       "count      13.000000   13.000000\n",
       "mean   174352.769231    0.539218\n",
       "std    169715.394259    0.151571\n",
       "min       269.000000    0.200743\n",
       "25%      5342.000000    0.480609\n",
       "50%    127121.000000    0.527892\n",
       "75%    369705.000000    0.663364\n",
       "max    371755.000000    0.749916"
      ]
     },
     "execution_count": 37,
     "metadata": {},
     "output_type": "execute_result"
    }
   ],
   "source": [
    "testNum_groupby = df.groupby('testNum').agg({\n",
    "    'userID': 'count',\n",
    "    'answerCode': percentile\n",
    "})\n",
    "testNum_groupby.describe()"
   ]
  },
  {
   "cell_type": "code",
   "execution_count": 38,
   "metadata": {},
   "outputs": [
    {
     "data": {
      "text/html": [
       "<div>\n",
       "<style scoped>\n",
       "    .dataframe tbody tr th:only-of-type {\n",
       "        vertical-align: middle;\n",
       "    }\n",
       "\n",
       "    .dataframe tbody tr th {\n",
       "        vertical-align: top;\n",
       "    }\n",
       "\n",
       "    .dataframe thead th {\n",
       "        text-align: right;\n",
       "    }\n",
       "</style>\n",
       "<table border=\"1\" class=\"dataframe\">\n",
       "  <thead>\n",
       "    <tr style=\"text-align: right;\">\n",
       "      <th></th>\n",
       "      <th>userID</th>\n",
       "      <th>answerCode</th>\n",
       "    </tr>\n",
       "    <tr>\n",
       "      <th>testNum</th>\n",
       "      <th></th>\n",
       "      <th></th>\n",
       "    </tr>\n",
       "  </thead>\n",
       "  <tbody>\n",
       "    <tr>\n",
       "      <th>001</th>\n",
       "      <td>371755</td>\n",
       "      <td>0.749916</td>\n",
       "    </tr>\n",
       "    <tr>\n",
       "      <th>002</th>\n",
       "      <td>370972</td>\n",
       "      <td>0.720062</td>\n",
       "    </tr>\n",
       "    <tr>\n",
       "      <th>003</th>\n",
       "      <td>371640</td>\n",
       "      <td>0.687773</td>\n",
       "    </tr>\n",
       "    <tr>\n",
       "      <th>004</th>\n",
       "      <td>369705</td>\n",
       "      <td>0.663364</td>\n",
       "    </tr>\n",
       "    <tr>\n",
       "      <th>005</th>\n",
       "      <td>360607</td>\n",
       "      <td>0.599134</td>\n",
       "    </tr>\n",
       "    <tr>\n",
       "      <th>006</th>\n",
       "      <td>197772</td>\n",
       "      <td>0.555685</td>\n",
       "    </tr>\n",
       "    <tr>\n",
       "      <th>007</th>\n",
       "      <td>127121</td>\n",
       "      <td>0.515399</td>\n",
       "    </tr>\n",
       "    <tr>\n",
       "      <th>008</th>\n",
       "      <td>67150</td>\n",
       "      <td>0.457156</td>\n",
       "    </tr>\n",
       "    <tr>\n",
       "      <th>009</th>\n",
       "      <td>18417</td>\n",
       "      <td>0.481729</td>\n",
       "    </tr>\n",
       "    <tr>\n",
       "      <th>010</th>\n",
       "      <td>5342</td>\n",
       "      <td>0.527892</td>\n",
       "    </tr>\n",
       "    <tr>\n",
       "      <th>011</th>\n",
       "      <td>3352</td>\n",
       "      <td>0.480609</td>\n",
       "    </tr>\n",
       "    <tr>\n",
       "      <th>012</th>\n",
       "      <td>2484</td>\n",
       "      <td>0.370370</td>\n",
       "    </tr>\n",
       "    <tr>\n",
       "      <th>013</th>\n",
       "      <td>269</td>\n",
       "      <td>0.200743</td>\n",
       "    </tr>\n",
       "  </tbody>\n",
       "</table>\n",
       "</div>"
      ],
      "text/plain": [
       "         userID  answerCode\n",
       "testNum                    \n",
       "001      371755    0.749916\n",
       "002      370972    0.720062\n",
       "003      371640    0.687773\n",
       "004      369705    0.663364\n",
       "005      360607    0.599134\n",
       "006      197772    0.555685\n",
       "007      127121    0.515399\n",
       "008       67150    0.457156\n",
       "009       18417    0.481729\n",
       "010        5342    0.527892\n",
       "011        3352    0.480609\n",
       "012        2484    0.370370\n",
       "013         269    0.200743"
      ]
     },
     "execution_count": 38,
     "metadata": {},
     "output_type": "execute_result"
    }
   ],
   "source": [
    "testNum_groupby"
   ]
  },
  {
   "cell_type": "code",
   "execution_count": 39,
   "metadata": {},
   "outputs": [
    {
     "data": {
      "image/png": "[encoded data removed]",
      "text/plain": [
       "<Figure size 640x480 with 1 Axes>"
      ]
     },
     "metadata": {},
     "output_type": "display_data"
    }
   ],
   "source": [
    "fig, ax = plt.subplots()\n",
    "plt.bar(testNum_groupby.index, testNum_groupby['answerCode'])\n",
    "ax.set_title('Answer Rate by testNum')\n",
    "ax.set_xlabel('testNum')\n",
    "ax.set_ylabel('Anser Rate')\n",
    "ax.axhline(testNum_groupby['answerCode'].mean(), color='red')\n",
    "plt.show()"
   ]
  },
  {
   "cell_type": "markdown",
   "metadata": {},
   "source": [
    "### KnowledgeTag 별 정답률"
   ]
  },
  {
   "cell_type": "code",
   "execution_count": 40,
   "metadata": {},
   "outputs": [
    {
     "data": {
      "text/html": [
       "<div>\n",
       "<style scoped>\n",
       "    .dataframe tbody tr th:only-of-type {\n",
       "        vertical-align: middle;\n",
       "    }\n",
       "\n",
       "    .dataframe tbody tr th {\n",
       "        vertical-align: top;\n",
       "    }\n",
       "\n",
       "    .dataframe thead th {\n",
       "        text-align: right;\n",
       "    }\n",
       "</style>\n",
       "<table border=\"1\" class=\"dataframe\">\n",
       "  <thead>\n",
       "    <tr style=\"text-align: right;\">\n",
       "      <th></th>\n",
       "      <th>userID</th>\n",
       "      <th>answerCode</th>\n",
       "    </tr>\n",
       "  </thead>\n",
       "  <tbody>\n",
       "    <tr>\n",
       "      <th>count</th>\n",
       "      <td>912.000000</td>\n",
       "      <td>912.000000</td>\n",
       "    </tr>\n",
       "    <tr>\n",
       "      <th>mean</th>\n",
       "      <td>2485.291667</td>\n",
       "      <td>0.615524</td>\n",
       "    </tr>\n",
       "    <tr>\n",
       "      <th>std</th>\n",
       "      <td>1732.086925</td>\n",
       "      <td>0.148329</td>\n",
       "    </tr>\n",
       "    <tr>\n",
       "      <th>min</th>\n",
       "      <td>44.000000</td>\n",
       "      <td>0.188940</td>\n",
       "    </tr>\n",
       "    <tr>\n",
       "      <th>25%</th>\n",
       "      <td>1025.250000</td>\n",
       "      <td>0.498239</td>\n",
       "    </tr>\n",
       "    <tr>\n",
       "      <th>50%</th>\n",
       "      <td>2204.000000</td>\n",
       "      <td>0.599585</td>\n",
       "    </tr>\n",
       "    <tr>\n",
       "      <th>75%</th>\n",
       "      <td>4052.750000</td>\n",
       "      <td>0.740288</td>\n",
       "    </tr>\n",
       "    <tr>\n",
       "      <th>max</th>\n",
       "      <td>12892.000000</td>\n",
       "      <td>0.977778</td>\n",
       "    </tr>\n",
       "  </tbody>\n",
       "</table>\n",
       "</div>"
      ],
      "text/plain": [
       "             userID  answerCode\n",
       "count    912.000000  912.000000\n",
       "mean    2485.291667    0.615524\n",
       "std     1732.086925    0.148329\n",
       "min       44.000000    0.188940\n",
       "25%     1025.250000    0.498239\n",
       "50%     2204.000000    0.599585\n",
       "75%     4052.750000    0.740288\n",
       "max    12892.000000    0.977778"
      ]
     },
     "execution_count": 40,
     "metadata": {},
     "output_type": "execute_result"
    }
   ],
   "source": [
    "KnowledgeTag_groupby = df.groupby('KnowledgeTag').agg({\n",
    "    'userID': 'count',\n",
    "    'answerCode': percentile\n",
    "})\n",
    "KnowledgeTag_groupby.describe()"
   ]
  },
  {
   "cell_type": "code",
   "execution_count": 41,
   "metadata": {},
   "outputs": [
    {
     "data": {
      "text/html": [
       "<div>\n",
       "<style scoped>\n",
       "    .dataframe tbody tr th:only-of-type {\n",
       "        vertical-align: middle;\n",
       "    }\n",
       "\n",
       "    .dataframe tbody tr th {\n",
       "        vertical-align: top;\n",
       "    }\n",
       "\n",
       "    .dataframe thead th {\n",
       "        text-align: right;\n",
       "    }\n",
       "</style>\n",
       "<table border=\"1\" class=\"dataframe\">\n",
       "  <thead>\n",
       "    <tr style=\"text-align: right;\">\n",
       "      <th></th>\n",
       "      <th>userID</th>\n",
       "      <th>answerCode</th>\n",
       "    </tr>\n",
       "    <tr>\n",
       "      <th>KnowledgeTag</th>\n",
       "      <th></th>\n",
       "      <th></th>\n",
       "    </tr>\n",
       "  </thead>\n",
       "  <tbody>\n",
       "    <tr>\n",
       "      <th>1000</th>\n",
       "      <td>321</td>\n",
       "      <td>0.523364</td>\n",
       "    </tr>\n",
       "    <tr>\n",
       "      <th>1002</th>\n",
       "      <td>732</td>\n",
       "      <td>0.411202</td>\n",
       "    </tr>\n",
       "    <tr>\n",
       "      <th>1009</th>\n",
       "      <td>182</td>\n",
       "      <td>0.384615</td>\n",
       "    </tr>\n",
       "    <tr>\n",
       "      <th>1010</th>\n",
       "      <td>1668</td>\n",
       "      <td>0.452038</td>\n",
       "    </tr>\n",
       "    <tr>\n",
       "      <th>1011</th>\n",
       "      <td>699</td>\n",
       "      <td>0.463519</td>\n",
       "    </tr>\n",
       "    <tr>\n",
       "      <th>...</th>\n",
       "      <td>...</td>\n",
       "      <td>...</td>\n",
       "    </tr>\n",
       "    <tr>\n",
       "      <th>9926</th>\n",
       "      <td>88</td>\n",
       "      <td>0.397727</td>\n",
       "    </tr>\n",
       "    <tr>\n",
       "      <th>9927</th>\n",
       "      <td>1638</td>\n",
       "      <td>0.432845</td>\n",
       "    </tr>\n",
       "    <tr>\n",
       "      <th>9928</th>\n",
       "      <td>1384</td>\n",
       "      <td>0.494220</td>\n",
       "    </tr>\n",
       "    <tr>\n",
       "      <th>9929</th>\n",
       "      <td>262</td>\n",
       "      <td>0.347328</td>\n",
       "    </tr>\n",
       "    <tr>\n",
       "      <th>9931</th>\n",
       "      <td>4481</td>\n",
       "      <td>0.884847</td>\n",
       "    </tr>\n",
       "  </tbody>\n",
       "</table>\n",
       "<p>912 rows × 2 columns</p>\n",
       "</div>"
      ],
      "text/plain": [
       "              userID  answerCode\n",
       "KnowledgeTag                    \n",
       "1000             321    0.523364\n",
       "1002             732    0.411202\n",
       "1009             182    0.384615\n",
       "1010            1668    0.452038\n",
       "1011             699    0.463519\n",
       "...              ...         ...\n",
       "9926              88    0.397727\n",
       "9927            1638    0.432845\n",
       "9928            1384    0.494220\n",
       "9929             262    0.347328\n",
       "9931            4481    0.884847\n",
       "\n",
       "[912 rows x 2 columns]"
      ]
     },
     "execution_count": 41,
     "metadata": {},
     "output_type": "execute_result"
    }
   ],
   "source": [
    "KnowledgeTag_groupby"
   ]
  },
  {
   "cell_type": "code",
   "execution_count": 42,
   "metadata": {},
   "outputs": [
    {
     "data": {
      "image/png": "[encoded data removed]",
      "text/plain": [
       "<Figure size 3000x500 with 1 Axes>"
      ]
     },
     "metadata": {},
     "output_type": "display_data"
    }
   ],
   "source": [
    "fig, ax = plt.subplots(figsize=(30, 5))\n",
    "plt.bar(KnowledgeTag_groupby.index, KnowledgeTag_groupby['answerCode'])\n",
    "ax.set_title('Answer Rate by KnowledgeTag')\n",
    "ax.set_xlabel('KnowledgeTag')\n",
    "ax.set_ylabel('Anser Rate')\n",
    "ax.axhline(KnowledgeTag_groupby['answerCode'].mean(), color='red')\n",
    "plt.gca().axes.xaxis.set_ticks([])\n",
    "plt.show()"
   ]
  },
  {
   "cell_type": "code",
   "execution_count": 43,
   "metadata": {},
   "outputs": [
    {
     "data": {
      "image/png": "[encoded data removed]",
      "text/plain": [
       "<Figure size 2500x500 with 1 Axes>"
      ]
     },
     "metadata": {},
     "output_type": "display_data"
    }
   ],
   "source": [
    "fig, ax = plt.subplots(figsize=(25, 5))\n",
    "plt.bar(KnowledgeTag_groupby.index[:30], KnowledgeTag_groupby['answerCode'][:30])\n",
    "ax.set_title('Answer Rate by KnowledgeTag')\n",
    "ax.set_xlabel('KnowledgeTag')\n",
    "ax.set_ylabel('Anser Rate')\n",
    "ax.axhline(KnowledgeTag_groupby['answerCode'].mean(), color='red')\n",
    "plt.show()"
   ]
  }
 ],
 "metadata": {
  "kernelspec": {
   "display_name": "dkt",
   "language": "python",
   "name": "python3"
  },
  "language_info": {
   "codemirror_mode": {
    "name": "ipython",
    "version": 3
   },
   "file_extension": ".py",
   "mimetype": "text/x-python",
   "name": "python",
   "nbconvert_exporter": "python",
   "pygments_lexer": "ipython3",
   "version": "3.10.13"
  }
 },
 "nbformat": 4,
 "nbformat_minor": 2
}
